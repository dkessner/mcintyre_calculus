{
 "cells": [
  {
   "cell_type": "code",
   "execution_count": 2,
   "id": "e68f25db-c228-4632-a041-5b9d73ba7ea4",
   "metadata": {},
   "outputs": [
    {
     "data": {
      "text/plain": [
       "2"
      ]
     },
     "execution_count": 2,
     "metadata": {},
     "output_type": "execute_result"
    }
   ],
   "source": [
    "1+1\n"
   ]
  },
  {
   "cell_type": "code",
   "execution_count": 1,
   "id": "e5471833-9d1e-432d-9fed-f8a411875372",
   "metadata": {},
   "outputs": [],
   "source": [
    "import turtle"
   ]
  },
  {
   "cell_type": "code",
   "execution_count": 2,
   "id": "5e2d7487-1d7f-4c62-bd1c-639da87d78d2",
   "metadata": {},
   "outputs": [
    {
     "name": "stderr",
     "output_type": "stream",
     "text": [
      "2025-03-14 16:00:33.345 Python[76282:6379403] +[IMKClient subclass]: chose IMKClient_Modern\n",
      "2025-03-14 16:00:33.345 Python[76282:6379403] +[IMKInputSession subclass]: chose IMKInputSession_Modern\n"
     ]
    }
   ],
   "source": [
    "turtle.home()\n"
   ]
  },
  {
   "cell_type": "code",
   "execution_count": 3,
   "id": "55ae74ee-6397-4c43-a3b2-d1bf291c6348",
   "metadata": {},
   "outputs": [],
   "source": [
    "turtle.forward(100)"
   ]
  },
  {
   "cell_type": "code",
   "execution_count": 4,
   "id": "e8ae9913-f9ac-492d-a15b-972aaa31b815",
   "metadata": {},
   "outputs": [],
   "source": [
    "turtle.clear()"
   ]
  },
  {
   "cell_type": "code",
   "execution_count": 5,
   "id": "c94a91c9-13a2-42eb-bf74-d15852177ece",
   "metadata": {},
   "outputs": [],
   "source": [
    "turtle.pencolor(\"darkorchid\")\n",
    "turtle.pensize(5)"
   ]
  },
  {
   "cell_type": "code",
   "execution_count": 6,
   "id": "3076411a-3b26-46fb-afad-75aea26705c2",
   "metadata": {},
   "outputs": [
    {
     "ename": "Terminator",
     "evalue": "",
     "output_type": "error",
     "traceback": [
      "\u001b[31m---------------------------------------------------------------------------\u001b[39m",
      "\u001b[31mTerminator\u001b[39m                                Traceback (most recent call last)",
      "\u001b[36mCell\u001b[39m\u001b[36m \u001b[39m\u001b[32mIn[6]\u001b[39m\u001b[32m, line 1\u001b[39m\n\u001b[32m----> \u001b[39m\u001b[32m1\u001b[39m \u001b[43mturtle\u001b[49m\u001b[43m.\u001b[49m\u001b[43mclear\u001b[49m\u001b[43m(\u001b[49m\u001b[43m)\u001b[49m\n",
      "\u001b[36mFile \u001b[39m\u001b[32m<string>:8\u001b[39m, in \u001b[36mclear\u001b[39m\u001b[34m()\u001b[39m\n",
      "\u001b[36mFile \u001b[39m\u001b[32m/opt/homebrew/Cellar/python@3.13/3.13.2/Frameworks/Python.framework/Versions/3.13/lib/python3.13/turtle.py:2650\u001b[39m, in \u001b[36mRawTurtle.clear\u001b[39m\u001b[34m(self)\u001b[39m\n\u001b[32m   2638\u001b[39m \u001b[38;5;250m\u001b[39m\u001b[33;03m\"\"\"Delete the turtle's drawings from the screen. Do not move turtle.\u001b[39;00m\n\u001b[32m   2639\u001b[39m \n\u001b[32m   2640\u001b[39m \u001b[33;03mNo arguments.\u001b[39;00m\n\u001b[32m   (...)\u001b[39m\u001b[32m   2647\u001b[39m \u001b[33;03m>>> turtle.clear()\u001b[39;00m\n\u001b[32m   2648\u001b[39m \u001b[33;03m\"\"\"\u001b[39;00m\n\u001b[32m   2649\u001b[39m \u001b[38;5;28mself\u001b[39m._clear()\n\u001b[32m-> \u001b[39m\u001b[32m2650\u001b[39m \u001b[38;5;28;43mself\u001b[39;49m\u001b[43m.\u001b[49m\u001b[43m_update\u001b[49m\u001b[43m(\u001b[49m\u001b[43m)\u001b[49m\n",
      "\u001b[36mFile \u001b[39m\u001b[32m/opt/homebrew/Cellar/python@3.13/3.13.2/Frameworks/Python.framework/Versions/3.13/lib/python3.13/turtle.py:2667\u001b[39m, in \u001b[36mRawTurtle._update\u001b[39m\u001b[34m(self)\u001b[39m\n\u001b[32m   2665\u001b[39m     \u001b[38;5;28;01mreturn\u001b[39;00m\n\u001b[32m   2666\u001b[39m \u001b[38;5;28;01melif\u001b[39;00m screen._tracing == \u001b[32m1\u001b[39m:\n\u001b[32m-> \u001b[39m\u001b[32m2667\u001b[39m     \u001b[38;5;28;43mself\u001b[39;49m\u001b[43m.\u001b[49m\u001b[43m_update_data\u001b[49m\u001b[43m(\u001b[49m\u001b[43m)\u001b[49m\n\u001b[32m   2668\u001b[39m     \u001b[38;5;28mself\u001b[39m._drawturtle()\n\u001b[32m   2669\u001b[39m     screen._update()                  \u001b[38;5;66;03m# TurtleScreenBase\u001b[39;00m\n",
      "\u001b[36mFile \u001b[39m\u001b[32m/opt/homebrew/Cellar/python@3.13/3.13.2/Frameworks/Python.framework/Versions/3.13/lib/python3.13/turtle.py:2653\u001b[39m, in \u001b[36mRawTurtle._update_data\u001b[39m\u001b[34m(self)\u001b[39m\n\u001b[32m   2652\u001b[39m \u001b[38;5;28;01mdef\u001b[39;00m\u001b[38;5;250m \u001b[39m\u001b[34m_update_data\u001b[39m(\u001b[38;5;28mself\u001b[39m):\n\u001b[32m-> \u001b[39m\u001b[32m2653\u001b[39m     \u001b[38;5;28;43mself\u001b[39;49m\u001b[43m.\u001b[49m\u001b[43mscreen\u001b[49m\u001b[43m.\u001b[49m\u001b[43m_incrementudc\u001b[49m\u001b[43m(\u001b[49m\u001b[43m)\u001b[49m\n\u001b[32m   2654\u001b[39m     \u001b[38;5;28;01mif\u001b[39;00m \u001b[38;5;28mself\u001b[39m.screen._updatecounter != \u001b[32m0\u001b[39m:\n\u001b[32m   2655\u001b[39m         \u001b[38;5;28;01mreturn\u001b[39;00m\n",
      "\u001b[36mFile \u001b[39m\u001b[32m/opt/homebrew/Cellar/python@3.13/3.13.2/Frameworks/Python.framework/Versions/3.13/lib/python3.13/turtle.py:1283\u001b[39m, in \u001b[36mTurtleScreen._incrementudc\u001b[39m\u001b[34m(self)\u001b[39m\n\u001b[32m   1281\u001b[39m \u001b[38;5;28;01mif\u001b[39;00m \u001b[38;5;129;01mnot\u001b[39;00m TurtleScreen._RUNNING:\n\u001b[32m   1282\u001b[39m     TurtleScreen._RUNNING = \u001b[38;5;28;01mTrue\u001b[39;00m\n\u001b[32m-> \u001b[39m\u001b[32m1283\u001b[39m     \u001b[38;5;28;01mraise\u001b[39;00m Terminator\n\u001b[32m   1284\u001b[39m \u001b[38;5;28;01mif\u001b[39;00m \u001b[38;5;28mself\u001b[39m._tracing > \u001b[32m0\u001b[39m:\n\u001b[32m   1285\u001b[39m     \u001b[38;5;28mself\u001b[39m._updatecounter += \u001b[32m1\u001b[39m\n",
      "\u001b[31mTerminator\u001b[39m: "
     ]
    }
   ],
   "source": [
    "turtle.clear()\n"
   ]
  },
  {
   "cell_type": "code",
   "execution_count": 7,
   "id": "61071033-5ee9-40f1-afea-ce5f379555c1",
   "metadata": {},
   "outputs": [],
   "source": [
    "turtle.home()"
   ]
  },
  {
   "cell_type": "code",
   "execution_count": 8,
   "id": "f0e56b1d-796a-4b6b-a8b5-65eb9cb33b96",
   "metadata": {},
   "outputs": [],
   "source": [
    "turtle.pencolor(\"darkorchid\")\n",
    "turtle.pensize(5)"
   ]
  },
  {
   "cell_type": "code",
   "execution_count": 9,
   "id": "7e678605-b952-4c65-937c-af8bdc65fe50",
   "metadata": {},
   "outputs": [],
   "source": [
    "turtle.forward(100)"
   ]
  },
  {
   "cell_type": "code",
   "execution_count": 11,
   "id": "1ea71b85-55a8-41f6-9baa-1d35129995f8",
   "metadata": {},
   "outputs": [],
   "source": [
    "def draw_square():\n",
    "    distance = 100\n",
    "    angle = 90\n",
    "    for _ in range(4):\n",
    "        turtle.fd(distance)\n",
    "        turtle.lt(angle)\n"
   ]
  },
  {
   "cell_type": "code",
   "execution_count": 12,
   "id": "2545ed8b-0289-4f93-b1f7-d16d6f18b301",
   "metadata": {},
   "outputs": [],
   "source": [
    "# Reset the turtle's state.\n",
    "turtle.home()\n",
    "turtle.clear()\n",
    "# Draw a square.\n",
    "draw_square()\n",
    "# Move forward, then draw another square.\n",
    "turtle.fd(100)\n",
    "draw_square()"
   ]
  },
  {
   "cell_type": "code",
   "execution_count": 15,
   "id": "433fe0c5-2d24-45a6-876a-b5882200098a",
   "metadata": {},
   "outputs": [],
   "source": [
    "# Reset the turtle's state.\n",
    "turtle.reset()\n",
    "# Draw a square, turn left, and repeat.\n",
    "for petal in range(10):\n",
    "# Draw a square.\n",
    "    draw_square()\n",
    "    # Turn left 36 degrees.\n",
    "    turtle.lt(36)"
   ]
  },
  {
   "cell_type": "code",
   "execution_count": 19,
   "id": "109fc1e2-b77b-46bd-bcdd-b3937a13480e",
   "metadata": {},
   "outputs": [],
   "source": [
    "turtle.reset()\n",
    "# Draw a series of squares.\n",
    "for size in range(20, 200, 20):\n",
    "    draw_square_2(size)"
   ]
  },
  {
   "cell_type": "code",
   "execution_count": 17,
   "id": "8f752763-7284-44a0-9248-9cf23ba56191",
   "metadata": {},
   "outputs": [],
   "source": [
    "def draw_square_2(distance):\n",
    "    angle = 90\n",
    "    \n",
    "    for _ in range(4):\n",
    "        turtle.fd(distance)\n",
    "        turtle.lt(angle)"
   ]
  },
  {
   "cell_type": "code",
   "execution_count": 20,
   "id": "c5cad4a9-f770-4f80-94db-ce59dec0eef7",
   "metadata": {},
   "outputs": [],
   "source": [
    "def draw_circle():\n",
    "    distance = 1\n",
    "    angle = 1\n",
    "    for side in range(360):\n",
    "        turtle.fd(distance)\n",
    "        turtle.lt(angle)"
   ]
  },
  {
   "cell_type": "code",
   "execution_count": 32,
   "id": "77a2376a-e2bf-4a07-ae2d-8b72bcc509b8",
   "metadata": {},
   "outputs": [],
   "source": [
    "turtle.reset()\n",
    "draw_circle()"
   ]
  },
  {
   "cell_type": "code",
   "execution_count": 29,
   "id": "10670ff4-9adb-4c40-b27c-6e3524d1ded7",
   "metadata": {},
   "outputs": [],
   "source": [
    "def draw_circle_2():\n",
    "    # Turn off animation.\n",
    "    turtle.tracer(False)\n",
    "\n",
    "    distance = 1\n",
    "    angle = 1\n",
    "   \n",
    "    for side in range(360):\n",
    "        turtle.fd(distance)\n",
    "        turtle.lt(angle)\n",
    "\n",
    "    # Turn on animation.\n",
    "    turtle.tracer(True)"
   ]
  },
  {
   "cell_type": "code",
   "execution_count": 30,
   "id": "82337feb-b886-434e-90a4-f15c0e056d5b",
   "metadata": {},
   "outputs": [],
   "source": [
    "turtle.reset()\n",
    "draw_circle_2()"
   ]
  },
  {
   "cell_type": "code",
   "execution_count": 31,
   "id": "bbc5f726-6298-45fb-8a80-6ff8f22c8aef",
   "metadata": {},
   "outputs": [],
   "source": [
    "turtle.reset()\n"
   ]
  },
  {
   "cell_type": "code",
   "execution_count": 27,
   "id": "e75965d2-0d64-42ff-8f62-fc8a67ee8344",
   "metadata": {},
   "outputs": [],
   "source": [
    "draw_circle_2()"
   ]
  },
  {
   "cell_type": "code",
   "execution_count": null,
   "id": "35b67040-5932-4ec8-a527-01c79f42ea7b",
   "metadata": {},
   "outputs": [],
   "source": []
  }
 ],
 "metadata": {
  "kernelspec": {
   "display_name": "Python 3 (ipykernel)",
   "language": "python",
   "name": "python3"
  },
  "language_info": {
   "codemirror_mode": {
    "name": "ipython",
    "version": 3
   },
   "file_extension": ".py",
   "mimetype": "text/x-python",
   "name": "python",
   "nbconvert_exporter": "python",
   "pygments_lexer": "ipython3",
   "version": "3.13.2"
  }
 },
 "nbformat": 4,
 "nbformat_minor": 5
}
