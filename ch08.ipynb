{
 "cells": [
  {
   "cell_type": "code",
   "execution_count": 1,
   "id": "c104cdcf-db29-487e-be3c-b79e61d00b02",
   "metadata": {},
   "outputs": [],
   "source": [
    "import numpy as np\n",
    "#import turtle\n",
    "#import ch08.calcplotlib as plt\n",
    "\n",
    "import calcplotlib as plt"
   ]
  },
  {
   "cell_type": "code",
   "execution_count": 2,
   "id": "3d61f83b-8a7f-44ef-9efa-eae508e91797",
   "metadata": {
    "scrolled": true
   },
   "outputs": [],
   "source": [
    "# not working?\n",
    "#%gui tk\n",
    "plt.clear()\n",
    "V = np.array([[ 0, -50, 0, 50],\n",
    "[50, 0, -50, 0],\n",
    "[ 1, 1, 1, 1],\n",
    "[ 1, 1, 1, 1]])\n",
    "plt.draw_quad(V)"
   ]
  },
  {
   "cell_type": "code",
   "execution_count": 3,
   "id": "b3aee45c-1079-4523-af59-061d54d256d6",
   "metadata": {
    "scrolled": true
   },
   "outputs": [],
   "source": [
    "plt.clear()\n",
    "plt.draw_axes()\n"
   ]
  },
  {
   "cell_type": "code",
   "execution_count": 4,
   "id": "fdb3de06-0676-48f8-a4e6-6e199e735527",
   "metadata": {},
   "outputs": [],
   "source": [
    "plt.clear()\n",
    "\n",
    "plt.draw_axes()\n",
    "V = np.array([[ 0, -50, 0, 50],\n",
    "[50, 0, -50, 0],\n",
    "[ 1, 1, 1, 1],\n",
    "[ 1, 1, 1, 1]])\n",
    "plt.draw_quad(V)"
   ]
  },
  {
   "cell_type": "code",
   "execution_count": 5,
   "id": "b5b793ac-25fc-4c39-830e-5df162bf8cb3",
   "metadata": {},
   "outputs": [
    {
     "name": "stdout",
     "output_type": "stream",
     "text": [
      "x-coordinates:\n",
      "[0. 1. 2.]\n",
      "y-coordinates:\n",
      "[2. 1. 0.]\n",
      "x-coordinate grid:\n",
      "[[0. 1. 2.]\n",
      " [0. 1. 2.]\n",
      " [0. 1. 2.]]\n",
      "y-coordinate grid:\n",
      "[[2. 2. 2.]\n",
      " [1. 1. 1.]\n",
      " [0. 0. 0.]]\n"
     ]
    }
   ],
   "source": [
    "# Create 1D arrays\n",
    "x = np.linspace(0, 2, 3)\n",
    "y = np.linspace(2, 0, 3) # backwards!\n",
    "print(\"x-coordinates:\")\n",
    "print(x)\n",
    "print(\"y-coordinates:\")\n",
    "print(y)\n",
    "# Create 2D arrays\n",
    "X, Y = np.meshgrid(x, y)\n",
    "print(\"x-coordinate grid:\")\n",
    "print(X)\n",
    "print(\"y-coordinate grid:\")\n",
    "print(Y)"
   ]
  },
  {
   "cell_type": "code",
   "execution_count": 6,
   "id": "0e297a46-3540-45b8-85a6-166c3124805a",
   "metadata": {},
   "outputs": [
    {
     "name": "stdout",
     "output_type": "stream",
     "text": [
      "[[2. 3. 4.]\n",
      " [1. 2. 3.]\n",
      " [0. 1. 2.]]\n"
     ]
    }
   ],
   "source": [
    "print(X+Y)"
   ]
  },
  {
   "cell_type": "code",
   "execution_count": 7,
   "id": "4f57fdfc-bac8-4489-87dd-8658618d4dcd",
   "metadata": {},
   "outputs": [
    {
     "name": "stdout",
     "output_type": "stream",
     "text": [
      "[[0.016 0.02  0.032]\n",
      " [0.004 0.008 0.02 ]\n",
      " [0.    0.004 0.016]]\n"
     ]
    }
   ],
   "source": [
    "def f(x, y):\n",
    "    return 0.004 * (x ** 2 + y ** 2)\n",
    "Z = f(X, Y)\n",
    "print(Z)  "
   ]
  },
  {
   "cell_type": "code",
   "execution_count": 8,
   "id": "1ab620ec-cb6c-4d96-8755-2e5937edc415",
   "metadata": {},
   "outputs": [
    {
     "name": "stdout",
     "output_type": "stream",
     "text": [
      "[[0.5   0.625 1.   ]\n",
      " [0.125 0.25  0.625]\n",
      " [0.    0.125 0.5  ]]\n"
     ]
    }
   ],
   "source": [
    "Z_n = plt.normalize(Z)\n",
    "print(Z_n)"
   ]
  },
  {
   "cell_type": "code",
   "execution_count": 3,
   "id": "e96f375b-f9b1-40b2-b731-b705994d579a",
   "metadata": {},
   "outputs": [],
   "source": [
    "def f(x, y):\n",
    "    return 0.004 * (x ** 2 + y ** 2)\n",
    "\n",
    "    \n",
    "# Create the coordinate grids.\n",
    "N = 20\n",
    "x = np.linspace(-200, 200, N)\n",
    "y = np.linspace(200, -200, N)\n",
    "X, Y = np.meshgrid(x, y)\n",
    "plt.clear()\n",
    "\n",
    "# Compute the z-coordinates.\n",
    "Z = f(X, Y)\n",
    "# Plot the surface.\n",
    "plt.plot_surface(X, Y, Z)"
   ]
  },
  {
   "cell_type": "code",
   "execution_count": 5,
   "id": "3c73f7b9-23a2-479e-a147-7101ce2a6301",
   "metadata": {},
   "outputs": [],
   "source": [
    "plt.clear()\n",
    "# Compute the z-coordinates.\n",
    "Z = f(X, Y)\n",
    "# Compute the transformation matrix.\n",
    "S = plt.scale3D(0.7, 0.7, 0.7)\n",
    "R = plt.rotate_y(np.pi / 6) @ plt.rotate_x(np.pi / 3)\n",
    "T = plt.translate3D(0, 0, -250)\n",
    "A = S @ R @ T\n",
    "# Plot the surface.\n",
    "plt.plot_surface(X, Y, Z, A)"
   ]
  },
  {
   "cell_type": "code",
   "execution_count": null,
   "id": "295cd4b3-2d8c-4021-a6c5-581f7c5e4c1e",
   "metadata": {},
   "outputs": [],
   "source": []
  }
 ],
 "metadata": {
  "kernelspec": {
   "display_name": "Python 3 (ipykernel)",
   "language": "python",
   "name": "python3"
  },
  "language_info": {
   "codemirror_mode": {
    "name": "ipython",
    "version": 3
   },
   "file_extension": ".py",
   "mimetype": "text/x-python",
   "name": "python",
   "nbconvert_exporter": "python",
   "pygments_lexer": "ipython3",
   "version": "3.13.5"
  }
 },
 "nbformat": 4,
 "nbformat_minor": 5
}
