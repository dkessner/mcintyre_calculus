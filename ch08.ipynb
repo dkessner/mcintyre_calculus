{
 "cells": [
  {
   "cell_type": "code",
   "execution_count": 1,
   "id": "c104cdcf-db29-487e-be3c-b79e61d00b02",
   "metadata": {},
   "outputs": [],
   "source": [
    "import numpy as np\n",
    "#import turtle\n",
    "#import ch08.calcplotlib as plt\n",
    "\n",
    "import calcplotlib as plt"
   ]
  },
  {
   "cell_type": "code",
   "execution_count": 2,
   "id": "3d61f83b-8a7f-44ef-9efa-eae508e91797",
   "metadata": {
    "scrolled": true
   },
   "outputs": [],
   "source": [
    "# not working?\n",
    "#%gui tk\n",
    "plt.clear()\n",
    "V = np.array([[ 0, -50, 0, 50],\n",
    "[50, 0, -50, 0],\n",
    "[ 1, 1, 1, 1],\n",
    "[ 1, 1, 1, 1]])\n",
    "plt.draw_quad(V)"
   ]
  },
  {
   "cell_type": "code",
   "execution_count": 3,
   "id": "b3aee45c-1079-4523-af59-061d54d256d6",
   "metadata": {
    "scrolled": true
   },
   "outputs": [],
   "source": [
    "plt.clear()\n",
    "plt.draw_axes()\n"
   ]
  },
  {
   "cell_type": "code",
   "execution_count": 4,
   "id": "fdb3de06-0676-48f8-a4e6-6e199e735527",
   "metadata": {},
   "outputs": [],
   "source": [
    "plt.clear()\n",
    "\n",
    "plt.draw_axes()\n",
    "V = np.array([[ 0, -50, 0, 50],\n",
    "[50, 0, -50, 0],\n",
    "[ 1, 1, 1, 1],\n",
    "[ 1, 1, 1, 1]])\n",
    "plt.draw_quad(V)"
   ]
  },
  {
   "cell_type": "code",
   "execution_count": 5,
   "id": "b5b793ac-25fc-4c39-830e-5df162bf8cb3",
   "metadata": {},
   "outputs": [
    {
     "name": "stdout",
     "output_type": "stream",
     "text": [
      "x-coordinates:\n",
      "[0. 1. 2.]\n",
      "y-coordinates:\n",
      "[2. 1. 0.]\n",
      "x-coordinate grid:\n",
      "[[0. 1. 2.]\n",
      " [0. 1. 2.]\n",
      " [0. 1. 2.]]\n",
      "y-coordinate grid:\n",
      "[[2. 2. 2.]\n",
      " [1. 1. 1.]\n",
      " [0. 0. 0.]]\n"
     ]
    }
   ],
   "source": [
    "# Create 1D arrays\n",
    "x = np.linspace(0, 2, 3)\n",
    "y = np.linspace(2, 0, 3) # backwards!\n",
    "print(\"x-coordinates:\")\n",
    "print(x)\n",
    "print(\"y-coordinates:\")\n",
    "print(y)\n",
    "# Create 2D arrays\n",
    "X, Y = np.meshgrid(x, y)\n",
    "print(\"x-coordinate grid:\")\n",
    "print(X)\n",
    "print(\"y-coordinate grid:\")\n",
    "print(Y)"
   ]
  },
  {
   "cell_type": "code",
   "execution_count": 6,
   "id": "0e297a46-3540-45b8-85a6-166c3124805a",
   "metadata": {},
   "outputs": [
    {
     "name": "stdout",
     "output_type": "stream",
     "text": [
      "[[2. 3. 4.]\n",
      " [1. 2. 3.]\n",
      " [0. 1. 2.]]\n"
     ]
    }
   ],
   "source": [
    "print(X+Y)"
   ]
  },
  {
   "cell_type": "code",
   "execution_count": 7,
   "id": "4f57fdfc-bac8-4489-87dd-8658618d4dcd",
   "metadata": {},
   "outputs": [
    {
     "name": "stdout",
     "output_type": "stream",
     "text": [
      "[[0.016 0.02  0.032]\n",
      " [0.004 0.008 0.02 ]\n",
      " [0.    0.004 0.016]]\n"
     ]
    }
   ],
   "source": [
    "def f(x, y):\n",
    "    return 0.004 * (x ** 2 + y ** 2)\n",
    "Z = f(X, Y)\n",
    "print(Z)  "
   ]
  },
  {
   "cell_type": "code",
   "execution_count": 8,
   "id": "1ab620ec-cb6c-4d96-8755-2e5937edc415",
   "metadata": {},
   "outputs": [
    {
     "name": "stdout",
     "output_type": "stream",
     "text": [
      "[[0.5   0.625 1.   ]\n",
      " [0.125 0.25  0.625]\n",
      " [0.    0.125 0.5  ]]\n"
     ]
    }
   ],
   "source": [
    "Z_n = plt.normalize(Z)\n",
    "print(Z_n)"
   ]
  },
  {
   "cell_type": "code",
   "execution_count": 3,
   "id": "e96f375b-f9b1-40b2-b731-b705994d579a",
   "metadata": {},
   "outputs": [],
   "source": [
    "def f(x, y):\n",
    "    return 0.004 * (x ** 2 + y ** 2)\n",
    "\n",
    "    \n",
    "# Create the coordinate grids.\n",
    "N = 20\n",
    "x = np.linspace(-200, 200, N)\n",
    "y = np.linspace(200, -200, N)\n",
    "X, Y = np.meshgrid(x, y)\n",
    "plt.clear()\n",
    "\n",
    "# Compute the z-coordinates.\n",
    "Z = f(X, Y)\n",
    "# Plot the surface.\n",
    "plt.plot_surface(X, Y, Z)"
   ]
  },
  {
   "cell_type": "code",
   "execution_count": 5,
   "id": "3c73f7b9-23a2-479e-a147-7101ce2a6301",
   "metadata": {},
   "outputs": [],
   "source": [
    "plt.clear()\n",
    "# Compute the z-coordinates.\n",
    "Z = f(X, Y)\n",
    "# Compute the transformation matrix.\n",
    "S = plt.scale3D(0.7, 0.7, 0.7)\n",
    "R = plt.rotate_y(np.pi / 6) @ plt.rotate_x(np.pi / 3)\n",
    "T = plt.translate3D(0, 0, -250)\n",
    "A = S @ R @ T\n",
    "# Plot the surface.\n",
    "plt.plot_surface(X, Y, Z, A)"
   ]
  },
  {
   "cell_type": "code",
   "execution_count": 4,
   "id": "295cd4b3-2d8c-4021-a6c5-581f7c5e4c1e",
   "metadata": {},
   "outputs": [],
   "source": [
    "from turtle import Turtle\n",
    "\n",
    "def f(x, y):\n",
    "    return 0.004 * (x ** 2 + y ** 2)\n",
    "\n",
    "\n",
    "    \n",
    "# Plot f(x, y) = 0.004(x^2 + y^2) in the standard basis.\n",
    "plt.clear()\n",
    "x = np.linspace(-200, 200, 20)\n",
    "y = np.linspace(200, -200, 20)\n",
    "X, Y = np.meshgrid(x, y)\n",
    "Z = f(X, Y)\n",
    "plt.plot_surface(X, Y, Z)\n",
    "\n",
    "# Define the gradient of f(x, y) = 0.004(x^2 + y^2).\n",
    "def grad_f(x, y):\n",
    "    df_dx = 0.008 * x\n",
    "    df_dy = 0.008 * y\n",
    "    return df_dx, df_dy\n",
    "\n",
    "# Create a Turtle.\n",
    "t = Turtle()\n",
    "t.hideturtle()\n",
    "t.speed(0)\n",
    "t.penup()\n",
    "\n",
    "t.color(\"gray100\")\n",
    "t.penup()\n",
    "\n",
    "# Set the Turtle's initial position randomly and mark it.\n",
    "x = 400 * (np.random.random() - 0.5)\n",
    "y = 400 * (np.random.random() - 0.5)\n",
    "t.goto(x, y)\n",
    "t.pendown()\n",
    "\n",
    "# Set the step size.\n",
    "step_size = 1\n",
    "# Descend the gradient for 500 steps.\n",
    "num_steps = 500\n",
    "for i in range(num_steps):\n",
    "    x, y = t.pos()\n",
    "    df_dx, df_dy = grad_f(x, y)\n",
    "    x -= step_size * df_dx\n",
    "    y -= step_size * df_dy\n",
    "    t.goto(x, y)\n"
   ]
  },
  {
   "cell_type": "code",
   "execution_count": 6,
   "id": "d7383a5a-ceca-4c6e-9257-6a6f36e0cf91",
   "metadata": {},
   "outputs": [],
   "source": [
    "poverty_pct = np.load(\"ch08/sdg_data/poverty_pct.npy\")\n",
    "food_insecure_pct = np.load(\"ch08/sdg_data/food_insecure_pct.npy\")\n",
    "child_mortality = np.load(\"ch08/sdg_data/child_mortality_per_100.npy\")\n",
    "maternal_mortality = np.load(\"ch08/sdg_data/maternal_mortality_per_100k.npy\")\n",
    "countries = np.load(\"ch08/sdg_data/countries.npy\", allow_pickle=True)"
   ]
  },
  {
   "cell_type": "code",
   "execution_count": 7,
   "id": "bed40cfd-ffec-478d-8574-e97dbac565e6",
   "metadata": {},
   "outputs": [
    {
     "name": "stdout",
     "output_type": "stream",
     "text": [
      "===== SDG Indicator Data for 104 Countries =====\n",
      "Poverty: [2.1277364e-02 3.1122005e+01 7.8107830e-01 4.9709398e-01 4.8582220e-01]\n",
      "Food Insecurity: [32.2 79.2  7.8 12.9  4.9]\n",
      "Child Mortality: [0.9370933  6.401257   1.0044454  0.3665513  0.31263998]\n",
      "Maternal Mortality: [  6.86681 183.20193  19.48496   2.333     6.10436]\n",
      "Countries: ['Albania' 'Angola' 'Armenia' 'Australia' 'Austria']\n"
     ]
    }
   ],
   "source": [
    "print(f\"===== SDG Indicator Data for {len(countries)} Countries =====\")\n",
    "print(f\"Poverty: {poverty_pct[:5]}\")\n",
    "print(f\"Food Insecurity: {food_insecure_pct[:5]}\")\n",
    "print(f\"Child Mortality: {child_mortality[:5]}\")\n",
    "print(f\"Maternal Mortality: {maternal_mortality[:5]}\")\n",
    "print(f\"Countries: {countries[:5]}\")"
   ]
  },
  {
   "cell_type": "code",
   "execution_count": 9,
   "id": "2cd9cf03-6950-4640-b2cb-15f9e7e84209",
   "metadata": {},
   "outputs": [
    {
     "name": "stdout",
     "output_type": "stream",
     "text": [
      "w: 0.131 b: 0.769\n"
     ]
    }
   ],
   "source": [
    "import calclearn as ml\n",
    "\n",
    "x = poverty_pct\n",
    "y = child_mortality\n",
    "w, b = ml.train(x, y)\n",
    "print(f\"w: {w:.03f} b: {b:.03f}\")"
   ]
  },
  {
   "cell_type": "code",
   "execution_count": 11,
   "id": "6b85447a-7734-4ca6-a393-2e42e55e708d",
   "metadata": {},
   "outputs": [
    {
     "name": "stdout",
     "output_type": "stream",
     "text": [
      "Child Mortality vs Poverty Percentage\n",
      "R2: 0.450\n",
      "w: 0.138 b: 0.499\n"
     ]
    }
   ],
   "source": [
    "# Set the input and output variables.\n",
    "x = poverty_pct\n",
    "y = child_mortality\n",
    "# Train the regression model.\n",
    "w, b = ml.train(x, y)\n",
    "# Compute R^2.\n",
    "y_hat = w * x + b\n",
    "R2 = ml.r_squared(y, y_hat)\n",
    "print(\"Child Mortality vs Poverty Percentage\")\n",
    "print(f\"R2: {R2:.03f}\")\n",
    "print(f\"w: {w:.03f} b: {b:.03f}\")"
   ]
  },
  {
   "cell_type": "code",
   "execution_count": null,
   "id": "68abf0cb-52aa-4e93-a4f2-81e5c4d1b498",
   "metadata": {},
   "outputs": [],
   "source": []
  }
 ],
 "metadata": {
  "kernelspec": {
   "display_name": "Python 3 (ipykernel)",
   "language": "python",
   "name": "python3"
  },
  "language_info": {
   "codemirror_mode": {
    "name": "ipython",
    "version": 3
   },
   "file_extension": ".py",
   "mimetype": "text/x-python",
   "name": "python",
   "nbconvert_exporter": "python",
   "pygments_lexer": "ipython3",
   "version": "3.13.5"
  }
 },
 "nbformat": 4,
 "nbformat_minor": 5
}
