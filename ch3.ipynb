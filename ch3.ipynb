{
 "cells": [
  {
   "cell_type": "code",
   "execution_count": 1,
   "id": "a5432bc8-fdd6-423b-bf02-d0410feff5cc",
   "metadata": {},
   "outputs": [
    {
     "name": "stderr",
     "output_type": "stream",
     "text": [
      "2025-03-27 16:30:17.052 Python[96545:5420056] +[IMKClient subclass]: chose IMKClient_Modern\n",
      "2025-03-27 16:30:17.052 Python[96545:5420056] +[IMKInputSession subclass]: chose IMKInputSession_Modern\n"
     ]
    }
   ],
   "source": [
    "import calcplotlib as plt"
   ]
  },
  {
   "cell_type": "code",
   "execution_count": 3,
   "id": "7319ffee-ad9e-4684-9629-ba9468b15f23",
   "metadata": {},
   "outputs": [],
   "source": [
    "def linear(x):\n",
    "    return x\n",
    "    \n",
    "def double(x):\n",
    "    \"\"\"A linear function that doubles its input\"\"\"\n",
    "    return 2 * x"
   ]
  },
  {
   "cell_type": "code",
   "execution_count": 4,
   "id": "80767a3f-57f9-487a-91a3-a71b1215d720",
   "metadata": {},
   "outputs": [],
   "source": [
    "plt.clear()\n",
    "plt.draw_axes()\n",
    "plt.draw_plot(double, \"red\")"
   ]
  },
  {
   "cell_type": "code",
   "execution_count": 5,
   "id": "3181b525-ea1b-4465-bd0d-596d49f3af93",
   "metadata": {},
   "outputs": [
    {
     "data": {
      "text/plain": [
       "4.499850000000663"
      ]
     },
     "execution_count": 5,
     "metadata": {},
     "output_type": "execute_result"
    }
   ],
   "source": [
    "plt.left_sum(linear, 0, 3)"
   ]
  },
  {
   "cell_type": "code",
   "execution_count": 6,
   "id": "4c393aac-ef80-44ba-ab91-eb9ba7650b5e",
   "metadata": {},
   "outputs": [],
   "source": [
    "plt.clear()\n",
    "plt.draw_rect(0, 0, 50, 100, \"gray0\", \"gray80\")"
   ]
  },
  {
   "cell_type": "code",
   "execution_count": 7,
   "id": "d5e2cdb6-b89d-4456-8df0-4b81cb278a54",
   "metadata": {},
   "outputs": [],
   "source": [
    "plt.clear()\n",
    "plt.draw_axes()\n",
    "plt.draw_plot(linear, \"gray0\")\n",
    "plt.draw_riemann(linear, 0, 300, 10, \"gray0\", \"gray80\")"
   ]
  },
  {
   "cell_type": "code",
   "execution_count": null,
   "id": "8dc759e2-2f17-42df-ac62-fb4c96f9351d",
   "metadata": {},
   "outputs": [],
   "source": []
  }
 ],
 "metadata": {
  "kernelspec": {
   "display_name": "Python 3 (ipykernel)",
   "language": "python",
   "name": "python3"
  },
  "language_info": {
   "codemirror_mode": {
    "name": "ipython",
    "version": 3
   },
   "file_extension": ".py",
   "mimetype": "text/x-python",
   "name": "python",
   "nbconvert_exporter": "python",
   "pygments_lexer": "ipython3",
   "version": "3.13.2"
  }
 },
 "nbformat": 4,
 "nbformat_minor": 5
}
