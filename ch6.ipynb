{
 "cells": [
  {
   "cell_type": "code",
   "execution_count": 1,
   "id": "4a79e441-02fe-4020-89de-2976d5091a31",
   "metadata": {},
   "outputs": [
    {
     "name": "stdout",
     "output_type": "stream",
     "text": [
      "(4.96,0.72)\n",
      "(4.71,-1.75)\n",
      "(3.30,-3.81)\n",
      "(1.12,-4.92)\n"
     ]
    }
   ],
   "source": [
    "# Initial values\n",
    "F_0 = 4\n",
    "D_0 = 3\n",
    "t_0 = 0\n",
    "# Time step\n",
    "t_f = 2\n",
    "dt = 0.01\n",
    "num_steps = int(t_f / dt)\n",
    "\n",
    "# Euler integration\n",
    "F = F_0\n",
    "D = D_0\n",
    "\n",
    "for i in range(1, num_steps):\n",
    "    # Compute changes based on the current system state.\n",
    "    dF_dt = D\n",
    "    dD_dt = -F\n",
    "    # Update the state variables.\n",
    "    F += dt * dF_dt\n",
    "    D += dt * dD_dt\n",
    "    # Print the system state every 50 time steps.\n",
    "    if i % 50 == 0:\n",
    "        print(f\"({F:.2f},{D:.2f})\")\n",
    "\n",
    "# Print the final system state.\n",
    "print(f\"({F:.2f},{D:.2f})\")"
   ]
  },
  {
   "cell_type": "code",
   "execution_count": 2,
   "id": "be94dfd5-06ca-4bc4-bb93-e657627580f9",
   "metadata": {},
   "outputs": [
    {
     "data": {
      "text/plain": [
       "[50, 20]"
      ]
     },
     "execution_count": 2,
     "metadata": {},
     "output_type": "execute_result"
    }
   ],
   "source": [
    "coords = [50, 20]\n",
    "coords"
   ]
  },
  {
   "cell_type": "code",
   "execution_count": 3,
   "id": "9cfced11-51f9-45f9-ad0c-42d847c841d7",
   "metadata": {},
   "outputs": [
    {
     "data": {
      "text/plain": [
       "50"
      ]
     },
     "execution_count": 3,
     "metadata": {},
     "output_type": "execute_result"
    }
   ],
   "source": [
    "coords[0]"
   ]
  },
  {
   "cell_type": "code",
   "execution_count": 4,
   "id": "9208ce2b-19bb-4f3c-b4d1-af0ef1554eee",
   "metadata": {},
   "outputs": [],
   "source": [
    "import turtle\n",
    "turtles = []\n",
    "for i in range(5):\n",
    "    t = turtle.Turtle()\n",
    "    t.speed(0)\n",
    "    t.penup()\n",
    "    t.shape(\"circle\")\n",
    "    x = i * 50 - 100\n",
    "    y = 0\n",
    "    t.goto(x, y)\n",
    "    t.pendown()\n",
    "    turtles.append(t)"
   ]
  },
  {
   "cell_type": "code",
   "execution_count": 5,
   "id": "a5eb0f7e-f462-41af-b345-7c65b3f32677",
   "metadata": {},
   "outputs": [],
   "source": [
    "for t in turtles:\n",
    "    t.color(\"gray50\")"
   ]
  },
  {
   "cell_type": "code",
   "execution_count": 5,
   "id": "bfcb18fd-f4bc-4ad1-83be-bedac7ade4c7",
   "metadata": {},
   "outputs": [],
   "source": [
    "turtle.clearscreen()"
   ]
  },
  {
   "cell_type": "code",
   "execution_count": 10,
   "id": "5f63229e-4144-45fe-8078-59c05d6fee04",
   "metadata": {},
   "outputs": [],
   "source": [
    "import turtle\n",
    "import calcplotlib as plt\n",
    "def rotational(state):\n",
    "    x, y = state\n",
    "    dx_dt = y\n",
    "    dy_dt = -x\n",
    "    return turtle.Vec2D(dx_dt, dy_dt)"
   ]
  },
  {
   "cell_type": "code",
   "execution_count": 11,
   "id": "5d06b280-9274-4ecb-b8b5-a0a385280d84",
   "metadata": {},
   "outputs": [
    {
     "data": {
      "text/plain": [
       "(3.00,-2.00)"
      ]
     },
     "execution_count": 11,
     "metadata": {},
     "output_type": "execute_result"
    }
   ],
   "source": [
    "state = turtle.Vec2D(2, 3)\n",
    "change = rotational(state)\n",
    "change"
   ]
  },
  {
   "cell_type": "code",
   "execution_count": 12,
   "id": "0e72d67e-629d-4276-bb40-a72407935247",
   "metadata": {},
   "outputs": [],
   "source": [
    "\n",
    "\n",
    "plt.clear()\n",
    "plt.draw_axes()\n",
    "#plt.draw_xlabel(\"x\")\n",
    "#plt.draw_ylabel(\"y\")\n",
    "#plt.draw_title(\"Rotational\")\n",
    "#plt.draw_field(rotational)"
   ]
  },
  {
   "cell_type": "code",
   "execution_count": 13,
   "id": "fb6fc105-88e3-4ba2-921d-289e0d930772",
   "metadata": {},
   "outputs": [],
   "source": [
    "plt.create_field()\n",
    "plt.draw_field(rotational)"
   ]
  },
  {
   "cell_type": "code",
   "execution_count": 14,
   "id": "878b7bb9-12b7-4469-9f5b-f06f63c4c4af",
   "metadata": {},
   "outputs": [],
   "source": [
    "def radial(state):\n",
    "    x, y = state\n",
    "    dx_dt = -x\n",
    "    dy_dt = -y\n",
    "    return turtle.Vec2D(dx_dt, dy_dt)\n",
    "plt.clear()\n",
    "plt.draw_axes()\n",
    "#plt.draw_xlabel(\"x\")\n",
    "#plt.draw_ylabel(\"y\")\n",
    "#plt.draw_title(\"Radial\")\n",
    "plt.draw_field(radial)"
   ]
  },
  {
   "cell_type": "code",
   "execution_count": 15,
   "id": "2ec37074-d4f2-4342-86ef-65c7f1aa5302",
   "metadata": {},
   "outputs": [],
   "source": [
    "def spiral(state):\n",
    "    return radial(state) + rotational(state)\n",
    "\n",
    "plt.clear()\n",
    "plt.draw_axes()\n",
    "#plt.draw_xlabel(\"x\")\n",
    "#plt.draw_ylabel(\"y\")\n",
    "#plt.draw_title(\"Spiral\")\n",
    "plt.draw_field(spiral, 0.004)    "
   ]
  },
  {
   "cell_type": "code",
   "execution_count": 16,
   "id": "e4892bd3-410a-4f3c-8c32-5b9310257715",
   "metadata": {},
   "outputs": [],
   "source": [
    "import turtle\n",
    "import calcplotlib as plt\n",
    "\n",
    "start = turtle.Vec2D(100, 250)\n",
    "t_f = 5\n",
    "trajectory = plt.integrate_field(spiral, start, t_f)\n",
    "\n",
    "plt.draw_trajectory(trajectory)\n"
   ]
  },
  {
   "cell_type": "code",
   "execution_count": null,
   "id": "2536e656-bb74-4a56-ba91-06c13f903c75",
   "metadata": {},
   "outputs": [],
   "source": []
  }
 ],
 "metadata": {
  "kernelspec": {
   "display_name": "Python 3 (ipykernel)",
   "language": "python",
   "name": "python3"
  },
  "language_info": {
   "codemirror_mode": {
    "name": "ipython",
    "version": 3
   },
   "file_extension": ".py",
   "mimetype": "text/x-python",
   "name": "python",
   "nbconvert_exporter": "python",
   "pygments_lexer": "ipython3",
   "version": "3.10.12"
  }
 },
 "nbformat": 4,
 "nbformat_minor": 5
}
