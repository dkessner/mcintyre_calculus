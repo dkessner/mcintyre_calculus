{
 "cells": [
  {
   "cell_type": "code",
   "execution_count": 1,
   "id": "4a79e441-02fe-4020-89de-2976d5091a31",
   "metadata": {},
   "outputs": [
    {
     "name": "stdout",
     "output_type": "stream",
     "text": [
      "(4.96,0.72)\n",
      "(4.71,-1.75)\n",
      "(3.30,-3.81)\n",
      "(1.12,-4.92)\n"
     ]
    }
   ],
   "source": [
    "# Initial values\n",
    "F_0 = 4\n",
    "D_0 = 3\n",
    "t_0 = 0\n",
    "# Time step\n",
    "t_f = 2\n",
    "dt = 0.01\n",
    "num_steps = int(t_f / dt)\n",
    "\n",
    "# Euler integration\n",
    "F = F_0\n",
    "D = D_0\n",
    "\n",
    "for i in range(1, num_steps):\n",
    "    # Compute changes based on the current system state.\n",
    "    dF_dt = D\n",
    "    dD_dt = -F\n",
    "    # Update the state variables.\n",
    "    F += dt * dF_dt\n",
    "    D += dt * dD_dt\n",
    "    # Print the system state every 50 time steps.\n",
    "    if i % 50 == 0:\n",
    "        print(f\"({F:.2f},{D:.2f})\")\n",
    "\n",
    "# Print the final system state.\n",
    "print(f\"({F:.2f},{D:.2f})\")"
   ]
  },
  {
   "cell_type": "code",
   "execution_count": 2,
   "id": "be94dfd5-06ca-4bc4-bb93-e657627580f9",
   "metadata": {},
   "outputs": [
    {
     "data": {
      "text/plain": [
       "[50, 20]"
      ]
     },
     "execution_count": 2,
     "metadata": {},
     "output_type": "execute_result"
    }
   ],
   "source": [
    "coords = [50, 20]\n",
    "coords"
   ]
  },
  {
   "cell_type": "code",
   "execution_count": 3,
   "id": "9cfced11-51f9-45f9-ad0c-42d847c841d7",
   "metadata": {},
   "outputs": [
    {
     "data": {
      "text/plain": [
       "50"
      ]
     },
     "execution_count": 3,
     "metadata": {},
     "output_type": "execute_result"
    }
   ],
   "source": [
    "coords[0]"
   ]
  },
  {
   "cell_type": "code",
   "execution_count": 4,
   "id": "9208ce2b-19bb-4f3c-b4d1-af0ef1554eee",
   "metadata": {},
   "outputs": [],
   "source": [
    "import turtle\n",
    "turtles = []\n",
    "for i in range(5):\n",
    "    t = turtle.Turtle()\n",
    "    t.speed(0)\n",
    "    t.penup()\n",
    "    t.shape(\"circle\")\n",
    "    x = i * 50 - 100\n",
    "    y = 0\n",
    "    t.goto(x, y)\n",
    "    t.pendown()\n",
    "    turtles.append(t)"
   ]
  },
  {
   "cell_type": "code",
   "execution_count": 5,
   "id": "a5eb0f7e-f462-41af-b345-7c65b3f32677",
   "metadata": {},
   "outputs": [],
   "source": [
    "for t in turtles:\n",
    "    t.color(\"gray50\")"
   ]
  },
  {
   "cell_type": "code",
   "execution_count": 6,
   "id": "bfcb18fd-f4bc-4ad1-83be-bedac7ade4c7",
   "metadata": {},
   "outputs": [],
   "source": [
    "turtle.clearscreen()"
   ]
  },
  {
   "cell_type": "code",
   "execution_count": 7,
   "id": "5f63229e-4144-45fe-8078-59c05d6fee04",
   "metadata": {},
   "outputs": [],
   "source": [
    "import turtle\n",
    "import calcplotlib as plt\n",
    "def rotational(state):\n",
    "    x, y = state\n",
    "    dx_dt = y\n",
    "    dy_dt = -x\n",
    "    return turtle.Vec2D(dx_dt, dy_dt)"
   ]
  },
  {
   "cell_type": "code",
   "execution_count": 8,
   "id": "5d06b280-9274-4ecb-b8b5-a0a385280d84",
   "metadata": {},
   "outputs": [
    {
     "data": {
      "text/plain": [
       "(3.00,-2.00)"
      ]
     },
     "execution_count": 8,
     "metadata": {},
     "output_type": "execute_result"
    }
   ],
   "source": [
    "state = turtle.Vec2D(2, 3)\n",
    "change = rotational(state)\n",
    "change"
   ]
  },
  {
   "cell_type": "code",
   "execution_count": 9,
   "id": "0e72d67e-629d-4276-bb40-a72407935247",
   "metadata": {},
   "outputs": [],
   "source": [
    "\n",
    "\n",
    "plt.clear()\n",
    "plt.draw_axes()\n",
    "#plt.draw_xlabel(\"x\")\n",
    "#plt.draw_ylabel(\"y\")\n",
    "#plt.draw_title(\"Rotational\")\n",
    "#plt.draw_field(rotational)"
   ]
  },
  {
   "cell_type": "code",
   "execution_count": 10,
   "id": "fb6fc105-88e3-4ba2-921d-289e0d930772",
   "metadata": {},
   "outputs": [],
   "source": [
    "plt.create_field()\n",
    "plt.draw_field(rotational)"
   ]
  },
  {
   "cell_type": "code",
   "execution_count": 11,
   "id": "878b7bb9-12b7-4469-9f5b-f06f63c4c4af",
   "metadata": {},
   "outputs": [],
   "source": [
    "def radial(state):\n",
    "    x, y = state\n",
    "    dx_dt = -x\n",
    "    dy_dt = -y\n",
    "    return turtle.Vec2D(dx_dt, dy_dt)\n",
    "plt.clear()\n",
    "plt.draw_axes()\n",
    "#plt.draw_xlabel(\"x\")\n",
    "#plt.draw_ylabel(\"y\")\n",
    "#plt.draw_title(\"Radial\")\n",
    "plt.draw_field(radial)"
   ]
  },
  {
   "cell_type": "code",
   "execution_count": 12,
   "id": "2ec37074-d4f2-4342-86ef-65c7f1aa5302",
   "metadata": {},
   "outputs": [],
   "source": [
    "def spiral(state):\n",
    "    return radial(state) + rotational(state)\n",
    "\n",
    "plt.clear()\n",
    "plt.draw_axes()\n",
    "#plt.draw_xlabel(\"x\")\n",
    "#plt.draw_ylabel(\"y\")\n",
    "#plt.draw_title(\"Spiral\")\n",
    "plt.draw_field(spiral, 0.004)    "
   ]
  },
  {
   "cell_type": "code",
   "execution_count": 13,
   "id": "e4892bd3-410a-4f3c-8c32-5b9310257715",
   "metadata": {},
   "outputs": [],
   "source": [
    "import turtle\n",
    "import calcplotlib as plt\n",
    "\n",
    "start = turtle.Vec2D(100, 250)\n",
    "t_f = 5\n",
    "trajectory = plt.integrate_field(spiral, start, t_f)\n",
    "\n",
    "plt.draw_trajectory(trajectory)\n"
   ]
  },
  {
   "cell_type": "code",
   "execution_count": 14,
   "id": "2536e656-bb74-4a56-ba91-06c13f903c75",
   "metadata": {},
   "outputs": [
    {
     "data": {
      "text/plain": [
       "(-50, 140, 0.0)"
      ]
     },
     "execution_count": 14,
     "metadata": {},
     "output_type": "execute_result"
    }
   ],
   "source": [
    "def lorenz(state):\n",
    "    x, y, z = state\n",
    "    sigma = 50\n",
    "    rho = 140\n",
    "    beta = 40 / 3\n",
    "    dx_dt = sigma * (y - x)\n",
    "    dy_dt = x * (rho - z) - y\n",
    "    dz_dt = x * y - beta * z\n",
    "    change = (dx_dt, dy_dt, dz_dt)\n",
    "    return change\n",
    "state = (1, 0, 0)\n",
    "lorenz(state)"
   ]
  },
  {
   "cell_type": "code",
   "execution_count": 15,
   "id": "3887b073-96a2-40de-8331-7b020db869a2",
   "metadata": {},
   "outputs": [
    {
     "data": {
      "text/plain": [
       "(-50.00,0.00)"
      ]
     },
     "execution_count": 15,
     "metadata": {},
     "output_type": "execute_result"
    }
   ],
   "source": [
    "def lorenz2d(state):\n",
    "    x, z = state\n",
    "    y = 0\n",
    "    state = (x, y, z)\n",
    "    dx_dt, dy_dt, dz_dt = lorenz(state)\n",
    "    return turtle.Vec2D(dx_dt, dz_dt)\n",
    "state = turtle.Vec2D(1, 0)\n",
    "lorenz2d(state)\n"
   ]
  },
  {
   "cell_type": "code",
   "execution_count": 16,
   "id": "5e4d9670-ac29-40e4-9254-0e95bfffbbed",
   "metadata": {},
   "outputs": [],
   "source": [
    "plt.clear()\n",
    "plt.draw_axes()\n",
    "#plt.draw_xlabel(\"x\")\n",
    "#plt.draw_ylabel(\"z\")\n",
    "#plt.draw_title(\"Lorenz\")\n",
    "plt.draw_field(lorenz2d, scale=0.0001)"
   ]
  },
  {
   "cell_type": "code",
   "execution_count": 20,
   "id": "2566c436-4622-400a-8c9e-d58ef958f1ea",
   "metadata": {},
   "outputs": [
    {
     "data": {
      "text/plain": [
       "[32.97882498637019, 49.73462920650081, 101.501027028532]"
      ]
     },
     "execution_count": 20,
     "metadata": {},
     "output_type": "execute_result"
    }
   ],
   "source": [
    "start = (1, 0, 0)\n",
    "t_f = 20\n",
    "trajectory = plt.integrate_field_2(lorenz, start, t_f)\n",
    "trajectory[-1]\n"
   ]
  },
  {
   "cell_type": "code",
   "execution_count": 21,
   "id": "450dcc62-939b-4e5a-8fdf-ea7ba180fb1d",
   "metadata": {},
   "outputs": [
    {
     "data": {
      "text/plain": [
       "(32.97882498637019, 101.501027028532)"
      ]
     },
     "execution_count": 21,
     "metadata": {},
     "output_type": "execute_result"
    }
   ],
   "source": [
    "trajectory = [(state[0], state[2]) for state in trajectory] # (x, z)\n",
    "trajectory[-1]"
   ]
  },
  {
   "cell_type": "code",
   "execution_count": 23,
   "id": "92befdba-d90f-4b73-b9d3-dd6e69ff4c86",
   "metadata": {},
   "outputs": [],
   "source": [
    "plt.draw_trajectory(trajectory)"
   ]
  },
  {
   "cell_type": "code",
   "execution_count": 28,
   "id": "95097114-98e6-47fb-9ceb-9ffa7e212afc",
   "metadata": {},
   "outputs": [],
   "source": [
    "def lorenz_trajectory(start, t_f):\n",
    "    \"\"\"Computes a trajectory in x-z space\"\"\"\n",
    "    trajectory = plt.integrate_field_2(lorenz, start, t_f)\n",
    "    trajectory = [(state[0], state[2]) for state in trajectory]\n",
    "    return trajectory\n",
    "\n",
    "\n",
    "# Compute the trajectories.\n",
    "t_f = 20\n",
    "start = (0.9, 0, 0)\n",
    "trajectory_1 = lorenz_trajectory(start, t_f)\n",
    "start = (1, 0, 0)\n",
    "trajectory_2 = lorenz_trajectory(start, t_f)\n",
    "start = (1.1, 0, 0)\n",
    "trajectory_3 = lorenz_trajectory(start, t_f)\n",
    "\n",
    "turtle.tracer(False)\n",
    "# Redraw the vector field.\n",
    "plt.clear()\n",
    "plt.draw_axes()\n",
    "#plt.draw_xlabel(\"x\")\n",
    "#plt.draw_ylabel(\"z\")\n",
    "#plt.draw_title(\"Lorenz\")\n",
    "plt.draw_field(lorenz2d, scale=0.0001)\n",
    "# Draw the trajectories.\n",
    "plt.draw_trajectory(trajectory_1, \"gray0\")\n",
    "# cplt.draw_trajectory(trajectory_2, \"gray0\")\n",
    "# cplt.draw_trajectory(trajectory_3, \"gray0\")\n",
    "# Draw the final state from each trajectory.\n",
    "turtle.shape(\"circle\")\n",
    "turtle.shapesize(0.5)\n",
    "turtle.penup()\n",
    "turtle.color(\"gray50\")\n",
    "turtle.goto(trajectory_1[-1])\n",
    "turtle.stamp()\n",
    "turtle.color(\"gray70\")\n",
    "turtle.goto(trajectory_2[-1])\n",
    "turtle.stamp()\n",
    "turtle.color(\"gray90\")\n",
    "turtle.goto(trajectory_3[-1])\n",
    "turtle.stamp()\n",
    "turtle.tracer(True)"
   ]
  },
  {
   "cell_type": "code",
   "execution_count": null,
   "id": "c61990e5-f202-4237-8b7c-23b0b918c98a",
   "metadata": {},
   "outputs": [],
   "source": []
  }
 ],
 "metadata": {
  "kernelspec": {
   "display_name": "Python 3 (ipykernel)",
   "language": "python",
   "name": "python3"
  },
  "language_info": {
   "codemirror_mode": {
    "name": "ipython",
    "version": 3
   },
   "file_extension": ".py",
   "mimetype": "text/x-python",
   "name": "python",
   "nbconvert_exporter": "python",
   "pygments_lexer": "ipython3",
   "version": "3.10.12"
  }
 },
 "nbformat": 4,
 "nbformat_minor": 5
}
