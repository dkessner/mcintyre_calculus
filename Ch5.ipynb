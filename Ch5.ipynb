{
 "cells": [
  {
   "cell_type": "code",
   "execution_count": 1,
   "id": "989e8bbe-9789-4f5a-b971-d7d9b358e5a2",
   "metadata": {},
   "outputs": [
    {
     "name": "stdout",
     "output_type": "stream",
     "text": [
      "255.33173288111493\n"
     ]
    }
   ],
   "source": [
    "import math\n",
    "\n",
    "# Initial values\n",
    "t_0 = 0\n",
    "b_0 = 1\n",
    "\n",
    "# Parameter\n",
    "k = math.log(2)\n",
    "\n",
    "# Time step\n",
    "t_f = 8\n",
    "dt = 0.001\n",
    "num_steps = int(t_f / dt)\n",
    "\n",
    "# Euler integration\n",
    "b = b_0\n",
    "\n",
    "for t in range(1, num_steps):\n",
    "    # Compute the change in population.\n",
    "    b_change = dt * k * b\n",
    "    # Compute the population for the next time step.\n",
    "    b_next = b + b_change\n",
    "    # Update the population variable.\n",
    "    b = b_next\n",
    "\n",
    "# Print the final state.\n",
    "print(b)\n",
    "\n"
   ]
  },
  {
   "cell_type": "code",
   "execution_count": 2,
   "id": "f18946aa-8703-4081-b445-e131959cb1c3",
   "metadata": {},
   "outputs": [
    {
     "name": "stderr",
     "output_type": "stream",
     "text": [
      "2025-03-28 13:38:12.555 Python[15225:5584938] +[IMKClient subclass]: chose IMKClient_Modern\n",
      "2025-03-28 13:38:12.555 Python[15225:5584938] +[IMKInputSession subclass]: chose IMKInputSession_Modern\n"
     ]
    }
   ],
   "source": [
    "import turtle\n",
    "import calcplotlib as plt"
   ]
  },
  {
   "cell_type": "code",
   "execution_count": 3,
   "id": "e1e87389-1b58-4e4e-873c-060147e229d7",
   "metadata": {},
   "outputs": [
    {
     "data": {
      "text/plain": [
       "('Donatello', 'Leonardo', 'Michelangelo', 'Raphael')"
      ]
     },
     "execution_count": 3,
     "metadata": {},
     "output_type": "execute_result"
    }
   ],
   "source": [
    "turtles = \"Donatello\", \"Leonardo\", \"Michelangelo\", \"Raphael\"\n",
    "turtles"
   ]
  },
  {
   "cell_type": "code",
   "execution_count": 4,
   "id": "de604764-ffbb-4474-9612-eb0f93155d47",
   "metadata": {},
   "outputs": [
    {
     "data": {
      "text/plain": [
       "'Leonardo'"
      ]
     },
     "execution_count": 4,
     "metadata": {},
     "output_type": "execute_result"
    }
   ],
   "source": [
    "turtles[1]"
   ]
  },
  {
   "cell_type": "code",
   "execution_count": 5,
   "id": "8fb0b1e3-0457-4d80-969d-05a8a3c03299",
   "metadata": {},
   "outputs": [
    {
     "ename": "TypeError",
     "evalue": "'tuple' object does not support item assignment",
     "output_type": "error",
     "traceback": [
      "\u001b[31m---------------------------------------------------------------------------\u001b[39m",
      "\u001b[31mTypeError\u001b[39m                                 Traceback (most recent call last)",
      "\u001b[36mCell\u001b[39m\u001b[36m \u001b[39m\u001b[32mIn[5]\u001b[39m\u001b[32m, line 1\u001b[39m\n\u001b[32m----> \u001b[39m\u001b[32m1\u001b[39m \u001b[43mturtles\u001b[49m\u001b[43m[\u001b[49m\u001b[32;43m0\u001b[39;49m\u001b[43m]\u001b[49m = \u001b[33m\"\u001b[39m\u001b[33mSquirtle\u001b[39m\u001b[33m\"\u001b[39m\n",
      "\u001b[31mTypeError\u001b[39m: 'tuple' object does not support item assignment"
     ]
    }
   ],
   "source": [
    "turtles[0] = \"Squirtle\""
   ]
  },
  {
   "cell_type": "code",
   "execution_count": 6,
   "id": "f77c1a08-87a5-4be7-818b-9f66bce08119",
   "metadata": {},
   "outputs": [
    {
     "data": {
      "text/plain": [
       "(2.00,5.00)"
      ]
     },
     "execution_count": 6,
     "metadata": {},
     "output_type": "execute_result"
    }
   ],
   "source": [
    "vec = turtle.Vec2D(2, 5)\n",
    "vec"
   ]
  },
  {
   "cell_type": "code",
   "execution_count": 7,
   "id": "0de889e4-da22-4431-8d55-0dd903278c51",
   "metadata": {},
   "outputs": [
    {
     "data": {
      "text/plain": [
       "(4.00,10.00)"
      ]
     },
     "execution_count": 7,
     "metadata": {},
     "output_type": "execute_result"
    }
   ],
   "source": [
    "twice = 2 * vec\n",
    "twice"
   ]
  },
  {
   "cell_type": "code",
   "execution_count": 8,
   "id": "886e7da3-3471-477b-be3a-66b00206206b",
   "metadata": {},
   "outputs": [
    {
     "data": {
      "text/plain": [
       "(4.00,6.00)"
      ]
     },
     "execution_count": 8,
     "metadata": {},
     "output_type": "execute_result"
    }
   ],
   "source": [
    "a = turtle.Vec2D(1, 2)\n",
    "b = turtle.Vec2D(3, 4)\n",
    "a + b"
   ]
  },
  {
   "cell_type": "code",
   "execution_count": 9,
   "id": "dfdfcb4c-c7fa-4688-adba-5d9fc1b9f6ff",
   "metadata": {},
   "outputs": [
    {
     "data": {
      "text/plain": [
       "5.0"
      ]
     },
     "execution_count": 9,
     "metadata": {},
     "output_type": "execute_result"
    }
   ],
   "source": [
    "abs(b)"
   ]
  },
  {
   "cell_type": "code",
   "execution_count": 10,
   "id": "1d4287df-e247-4fc2-9cda-dc5d26e68c45",
   "metadata": {},
   "outputs": [
    {
     "data": {
      "text/plain": [
       "(1.00,3.00)"
      ]
     },
     "execution_count": 10,
     "metadata": {},
     "output_type": "execute_result"
    }
   ],
   "source": [
    "def double(x):\n",
    "    return 2 * x\n",
    "x = turtle.Vec2D(1, 3)\n",
    "x\n"
   ]
  },
  {
   "cell_type": "code",
   "execution_count": 11,
   "id": "fb6c9571-cdb8-445a-85a5-eb2d92fb7533",
   "metadata": {},
   "outputs": [
    {
     "data": {
      "text/plain": [
       "(2.00,6.00)"
      ]
     },
     "execution_count": 11,
     "metadata": {},
     "output_type": "execute_result"
    }
   ],
   "source": [
    "y = double(x)\n",
    "y"
   ]
  },
  {
   "cell_type": "code",
   "execution_count": 12,
   "id": "0c23fb04-d9ed-4d9d-a11d-1ffed5fb03e4",
   "metadata": {},
   "outputs": [],
   "source": [
    "def apply_gravity(r, mass_a, mass_b):\n",
    "    \"\"\"Computes the force of gravity between two bodies\"\"\"\n",
    "    G = 6.67 * 10 ** (-11)\n",
    "    r_mag = abs(r)\n",
    "    strength = G * mass_a * mass_b / r_mag ** 2\n",
    "    unit_vector = (1 / r_mag) * r\n",
    "    return strength * unit_vector"
   ]
  },
  {
   "cell_type": "code",
   "execution_count": 13,
   "id": "cb1412f2-32de-457b-8ce1-e96386c4744f",
   "metadata": {},
   "outputs": [
    {
     "name": "stdout",
     "output_type": "stream",
     "text": [
      "The force vector (0.89,0.51) has a magnitude of 1.0261538461538462\n"
     ]
    }
   ],
   "source": [
    "r = turtle.Vec2D(7, 4)\n",
    "mass_a = 10 ** 6\n",
    "mass_b = 10 ** 6\n",
    "F = apply_gravity(r, mass_a, mass_b)\n",
    "print(f\"The force vector {F} has a magnitude of {abs(F)}\")"
   ]
  },
  {
   "cell_type": "code",
   "execution_count": 14,
   "id": "1577ab81-0e4c-49bf-b60f-c0f6f8b76244",
   "metadata": {},
   "outputs": [],
   "source": [
    "plt.clear()\n",
    "plt.draw_axes()\n",
    "origin = turtle.Vec2D(0, 0)\n",
    "a = turtle.Vec2D(100, 50)\n",
    "plt.draw_vector(origin, a)"
   ]
  },
  {
   "cell_type": "code",
   "execution_count": 15,
   "id": "099acd1c-0f6f-4498-a6d5-89c5f7cd8914",
   "metadata": {},
   "outputs": [],
   "source": [
    "# Prepare to draw.\n",
    "plt.clear()\n",
    "plt.draw_axes()\n",
    "# Create the position vectors for objects a and b.\n",
    "pos_a = turtle.Vec2D(-50, -30)\n",
    "pos_b = turtle.Vec2D(20, 10)\n",
    "# Draw object a.\n",
    "turtle.penup()\n",
    "turtle.goto(pos_a)\n",
    "turtle.pencolor(\"black\")\n",
    "turtle.pensize(2)\n",
    "turtle.dot()\n",
    "\n",
    "# Draw object b.\n",
    "turtle.goto(pos_b)\n",
    "turtle.pencolor(\"black\")\n",
    "turtle.pensize(2)\n",
    "turtle.dot()\n",
    "# Draw the vector between a and b.\n",
    "r = pos_b - pos_a\n",
    "mass_a = 10 ** 6\n",
    "mass_b = 10 ** 6\n",
    "F = apply_gravity(r, mass_a, mass_b)\n",
    "plt.draw_vector(pos_a, F)\n",
    "\n"
   ]
  },
  {
   "cell_type": "code",
   "execution_count": 16,
   "id": "cfff76ac-6dc5-4e69-b677-237125e082f3",
   "metadata": {},
   "outputs": [],
   "source": [
    "turtle.clearscreen()\n",
    "turtle.hideturtle()"
   ]
  },
  {
   "cell_type": "code",
   "execution_count": 17,
   "id": "a198d388-83ce-4501-8a4e-ff3bb801c789",
   "metadata": {},
   "outputs": [],
   "source": [
    "obj_a = turtle.Turtle()\n",
    "obj_b = turtle.Turtle()"
   ]
  },
  {
   "cell_type": "code",
   "execution_count": 18,
   "id": "ae9aeeeb-3c62-4494-bcc5-1b8e13c21e60",
   "metadata": {},
   "outputs": [],
   "source": [
    "obj_a.left(90)\n",
    "obj_b.right(90)"
   ]
  },
  {
   "cell_type": "code",
   "execution_count": 19,
   "id": "28426d5d-ec87-4ba5-b140-ccc31459e440",
   "metadata": {},
   "outputs": [],
   "source": [
    "obj_a.fd(100)\n",
    "obj_b.fd(100)"
   ]
  },
  {
   "cell_type": "code",
   "execution_count": 20,
   "id": "93d8687e-50fa-4516-9eb4-8bba5098cf98",
   "metadata": {},
   "outputs": [
    {
     "data": {
      "text/plain": [
       "(0.00,100.00)"
      ]
     },
     "execution_count": 20,
     "metadata": {},
     "output_type": "execute_result"
    }
   ],
   "source": [
    "obj_a.pos()"
   ]
  },
  {
   "cell_type": "code",
   "execution_count": 21,
   "id": "c1d30816-b573-47a8-be9d-a24472bf429b",
   "metadata": {},
   "outputs": [
    {
     "data": {
      "text/plain": [
       "(0.00,-100.00)"
      ]
     },
     "execution_count": 21,
     "metadata": {},
     "output_type": "execute_result"
    }
   ],
   "source": [
    "obj_b.pos()"
   ]
  },
  {
   "cell_type": "code",
   "execution_count": 22,
   "id": "cd4cfa31-c910-4f6b-aacd-49b3f9c734cd",
   "metadata": {},
   "outputs": [],
   "source": [
    "obj_a.home()\n",
    "obj_a.clear()\n",
    "obj_b.home()\n",
    "obj_b.clear()"
   ]
  },
  {
   "cell_type": "code",
   "execution_count": 23,
   "id": "b4d6bd94-f999-4636-816e-0b063cf36e60",
   "metadata": {},
   "outputs": [],
   "source": [
    "# Initial values\n",
    "t_0 = 0\n",
    "pos_a0 = turtle.Vec2D(100, 0)\n",
    "pos_b0 = turtle.Vec2D(-100, 0)\n",
    "vel_a0 = turtle.Vec2D(0, 410)\n",
    "vel_b0 = turtle.Vec2D(0, -410)\n",
    "# Turtle objects\n",
    "obj_a.shape(\"circle\")\n",
    "obj_a.color(\"gray0\")\n",
    "obj_a.penup()\n",
    "obj_b.shape(\"circle\")\n",
    "obj_b.color(\"gray80\")\n",
    "obj_b.penup()\n",
    "# Parameters\n",
    "mass_a = 10 ** 18\n",
    "mass_b = 10 ** 18\n",
    "# Time step\n",
    "t_f = 1\n",
    "dt = 0.001\n",
    "num_steps = int(t_f / dt)\n",
    "# Euler integration\n",
    "pos_a = pos_a0\n",
    "pos_b = pos_b0\n",
    "vel_a = vel_a0\n",
    "vel_b = vel_b0\n",
    "obj_a.goto(pos_a0)\n",
    "obj_b.goto(pos_b0)\n",
    "obj_a.pendown()\n",
    "obj_b.pendown()\n",
    "\n",
    "for t in range(1, num_steps):\n",
    "    # Move the Turtles.\n",
    "    obj_a.goto(pos_a)\n",
    "    obj_b.goto(pos_b)\n",
    "    # Compute the force of gravity\n",
    "    r_ab = pos_b - pos_a\n",
    "    force_ab = apply_gravity(r_ab, mass_a, mass_b)\n",
    "    force_ba = -force_ab\n",
    "    # Compute the acceleration.\n",
    "    acc_a = (1 / mass_a) * force_ab\n",
    "    acc_b = (1 / mass_b) * force_ba\n",
    "    # Update velocity.\n",
    "    vel_a += dt * acc_a\n",
    "    vel_b += dt * acc_b\n",
    "    # Update position.\n",
    "    pos_a += dt * vel_a\n",
    "    pos_b += dt * vel_b\n"
   ]
  },
  {
   "cell_type": "code",
   "execution_count": 26,
   "id": "95938065-8a5a-487f-b4c6-6f1ef2c695e2",
   "metadata": {},
   "outputs": [],
   "source": [
    "obj_c = turtle.Turtle()\n",
    "obj_a.home()\n",
    "obj_a.clear()\n",
    "obj_b.home()\n",
    "obj_b.clear()\n",
    "obj_c.home()\n",
    "obj_c.clear()\n",
    "\n",
    "# Initial values\n",
    "t_0 = 0\n",
    "\n",
    "pos_a0 = turtle.Vec2D(100, 0)\n",
    "pos_b0 = turtle.Vec2D(-100, 0)\n",
    "pos_c0 = turtle.Vec2D(0, 1) # a little bit up\n",
    "\n",
    "#pos_a0 = turtle.Vec2D(100, 0)\n",
    "#pos_b0 = turtle.Vec2D(-100, 0)\n",
    "#pos_c0 = turtle.Vec2D(1, 0)\n",
    "\n",
    "vel_a0 = turtle.Vec2D(0, 500)\n",
    "vel_b0 = turtle.Vec2D(0, -500)\n",
    "vel_c0 = turtle.Vec2D(0, 0)\n",
    "# Turtle objects\n",
    "obj_a.shape(\"circle\")\n",
    "obj_a.color(\"gray0\")\n",
    "obj_a.penup()\n",
    "obj_b.shape(\"circle\")\n",
    "obj_b.color(\"gray80\")\n",
    "obj_b.penup()\n",
    "obj_c.shape(\"circle\")\n",
    "obj_c.color(\"gray50\")\n",
    "obj_c.penup()\n",
    "# Parameters\n",
    "mass_a = 10 ** 18\n",
    "mass_b = 10 ** 18\n",
    "mass_c = 10 ** 17\n",
    "\n",
    "# Time step\n",
    "t_f = 1\n",
    "dt = 0.001\n",
    "num_steps = int(t_f / dt)\n",
    "# Euler integration\n",
    "pos_a = pos_a0\n",
    "pos_b = pos_b0\n",
    "pos_c = pos_c0\n",
    "vel_a = vel_a0\n",
    "vel_b = vel_b0\n",
    "vel_c = vel_c0\n",
    "obj_a.goto(pos_a0)\n",
    "obj_b.goto(pos_b0)\n",
    "obj_c.goto(pos_c0)\n",
    "obj_a.pendown()\n",
    "obj_b.pendown()\n",
    "obj_c.pendown()\n",
    "\n",
    "for t in range(1, num_steps):\n",
    "    # Move the Turtles.\n",
    "    obj_a.goto(pos_a)\n",
    "\n",
    "    obj_b.goto(pos_b)\n",
    "    obj_c.goto(pos_c)\n",
    "    # Compute the force of gravity.\n",
    "    r_ab = pos_b - pos_a\n",
    "    r_ac = pos_c- pos_a\n",
    "    r_bc = pos_c - pos_b\n",
    "    force_ab = apply_gravity(r_ab, mass_a, mass_b)\n",
    "    force_ba = -force_ab\n",
    "    force_ac = apply_gravity(r_ac, mass_a, mass_c)\n",
    "    force_ca = -force_ac\n",
    "    force_bc = apply_gravity(r_bc, mass_b, mass_c)\n",
    "    force_cb = -force_bc\n",
    "    # Compute the acceleration.\n",
    "    acc_a = (1 / mass_a) * (force_ab + force_ac)\n",
    "    acc_b = (1 / mass_b) * (force_ba + force_bc)\n",
    "    acc_c = (1 / mass_c) * (force_ca + force_cb)\n",
    "    # Update velocity.\n",
    "    vel_a += dt * acc_a\n",
    "    vel_b += dt * acc_b\n",
    "    vel_c += dt * acc_c\n",
    "    # Update position.\n",
    "    pos_a += dt * vel_a\n",
    "    pos_b += dt * vel_b\n",
    "    pos_c += dt * vel_c\n"
   ]
  },
  {
   "cell_type": "code",
   "execution_count": null,
   "id": "71081f38-e636-4f7f-9e0c-0580db22dadf",
   "metadata": {},
   "outputs": [],
   "source": []
  }
 ],
 "metadata": {
  "kernelspec": {
   "display_name": "Python 3 (ipykernel)",
   "language": "python",
   "name": "python3"
  },
  "language_info": {
   "codemirror_mode": {
    "name": "ipython",
    "version": 3
   },
   "file_extension": ".py",
   "mimetype": "text/x-python",
   "name": "python",
   "nbconvert_exporter": "python",
   "pygments_lexer": "ipython3",
   "version": "3.13.2"
  }
 },
 "nbformat": 4,
 "nbformat_minor": 5
}
