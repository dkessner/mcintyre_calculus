{
 "cells": [
  {
   "cell_type": "code",
   "execution_count": 1,
   "id": "7a3756e8-9dbc-49e9-b0c0-fccad60c604b",
   "metadata": {},
   "outputs": [],
   "source": [
    "import numpy as np"
   ]
  },
  {
   "cell_type": "code",
   "execution_count": 2,
   "id": "ff62bc2b-7dc1-4b5c-8b5c-77d8b553d50e",
   "metadata": {},
   "outputs": [
    {
     "data": {
      "text/plain": [
       "array([8, 6, 7, 5, 3, 0, 9])"
      ]
     },
     "execution_count": 2,
     "metadata": {},
     "output_type": "execute_result"
    }
   ],
   "source": [
    "np.array([8, 6, 7, 5, 3, 0, 9])"
   ]
  },
  {
   "cell_type": "code",
   "execution_count": 3,
   "id": "7eccc3b9-2cc0-43a0-917b-1ee863cac5ee",
   "metadata": {},
   "outputs": [
    {
     "data": {
      "text/plain": [
       "array([8, 6, 7, 5, 3, 0, 9])"
      ]
     },
     "execution_count": 3,
     "metadata": {},
     "output_type": "execute_result"
    }
   ],
   "source": [
    "x = np.array([8, 6, 7, 5, 3, 0, 9])\n",
    "x\n"
   ]
  },
  {
   "cell_type": "code",
   "execution_count": 4,
   "id": "45348375-e2e5-4c4a-a086-782b7f992b0a",
   "metadata": {},
   "outputs": [
    {
     "data": {
      "text/plain": [
       "np.int64(8)"
      ]
     },
     "execution_count": 4,
     "metadata": {},
     "output_type": "execute_result"
    }
   ],
   "source": [
    "x[0]"
   ]
  },
  {
   "cell_type": "code",
   "execution_count": 5,
   "id": "e24c8d59-bb7d-4c07-8798-1407a2bcc180",
   "metadata": {},
   "outputs": [
    {
     "data": {
      "text/plain": [
       "array([2, 6, 7, 5, 3, 0, 9])"
      ]
     },
     "execution_count": 5,
     "metadata": {},
     "output_type": "execute_result"
    }
   ],
   "source": [
    "x[0] = 2\n",
    "x"
   ]
  },
  {
   "cell_type": "code",
   "execution_count": 6,
   "id": "83b9d66d-e5b8-4ea9-9d17-d9f57bba00dc",
   "metadata": {},
   "outputs": [
    {
     "data": {
      "text/plain": [
       "array([1, 1, 1, 5, 3, 0, 9])"
      ]
     },
     "execution_count": 6,
     "metadata": {},
     "output_type": "execute_result"
    }
   ],
   "source": [
    "x[:3] = 1\n",
    "x"
   ]
  },
  {
   "cell_type": "code",
   "execution_count": 7,
   "id": "0df9d912-5ba1-4154-8403-80ec9791ece0",
   "metadata": {},
   "outputs": [
    {
     "data": {
      "text/plain": [
       "array([8., 6., 7., 5., 3., 0., 9.])"
      ]
     },
     "execution_count": 7,
     "metadata": {},
     "output_type": "execute_result"
    }
   ],
   "source": [
    "x = np.array([8.0, 6, 7, 5, 3, 0, 9])\n",
    "x"
   ]
  },
  {
   "cell_type": "code",
   "execution_count": 8,
   "id": "38caa1d0-be02-4ba2-9188-5a9508c8e1cd",
   "metadata": {},
   "outputs": [
    {
     "data": {
      "text/plain": [
       "array([8., 6., 7., 5., 3., 0., 9.])"
      ]
     },
     "execution_count": 8,
     "metadata": {},
     "output_type": "execute_result"
    }
   ],
   "source": [
    "x = np.array([8, 6, 7, 5, 3, 0, 9], dtype=np.float64)\n",
    "x"
   ]
  },
  {
   "cell_type": "code",
   "execution_count": 9,
   "id": "bfc8a508-3633-4f46-ad05-98b722850a57",
   "metadata": {},
   "outputs": [
    {
     "data": {
      "text/plain": [
       "array([0, 1, 2, 3, 4, 5, 6, 7, 8, 9])"
      ]
     },
     "execution_count": 9,
     "metadata": {},
     "output_type": "execute_result"
    }
   ],
   "source": [
    "x = np.arange(10)\n",
    "x"
   ]
  },
  {
   "cell_type": "code",
   "execution_count": 10,
   "id": "43ca1b9a-0a8f-4a02-9f2e-c27b00fab003",
   "metadata": {},
   "outputs": [
    {
     "data": {
      "text/plain": [
       "array([ 0,  5, 10, 15])"
      ]
     },
     "execution_count": 10,
     "metadata": {},
     "output_type": "execute_result"
    }
   ],
   "source": [
    "x = np.arange(0, 20, 5)\n",
    "x"
   ]
  },
  {
   "cell_type": "code",
   "execution_count": 11,
   "id": "9f844b75-a06f-496b-911d-a446d3f4c3de",
   "metadata": {},
   "outputs": [
    {
     "data": {
      "text/plain": [
       "array([0.  , 0.25, 0.5 , 0.75, 1.  ])"
      ]
     },
     "execution_count": 11,
     "metadata": {},
     "output_type": "execute_result"
    }
   ],
   "source": [
    "x = np.linspace(0, 1, 5)\n",
    "x"
   ]
  },
  {
   "cell_type": "code",
   "execution_count": 12,
   "id": "ec3f3010-574e-433e-aada-7a7b6734a45d",
   "metadata": {},
   "outputs": [
    {
     "data": {
      "text/plain": [
       "array([0., 0., 0., 0., 0.])"
      ]
     },
     "execution_count": 12,
     "metadata": {},
     "output_type": "execute_result"
    }
   ],
   "source": [
    "x = np.zeros(5)\n",
    "x"
   ]
  },
  {
   "cell_type": "code",
   "execution_count": 13,
   "id": "39bd9918-2a1d-4e6b-8987-ead8586784ac",
   "metadata": {},
   "outputs": [
    {
     "data": {
      "text/plain": [
       "array([1., 1., 1., 1., 1.])"
      ]
     },
     "execution_count": 13,
     "metadata": {},
     "output_type": "execute_result"
    }
   ],
   "source": [
    "x = np.ones(5)\n",
    "x"
   ]
  },
  {
   "cell_type": "code",
   "execution_count": 16,
   "id": "04eb5016-f7f6-4801-bc47-7579456a93b6",
   "metadata": {},
   "outputs": [
    {
     "data": {
      "text/plain": [
       "array([0.81124717, 0.93442047, 0.55106437, 0.15720764, 0.60173623])"
      ]
     },
     "execution_count": 16,
     "metadata": {},
     "output_type": "execute_result"
    }
   ],
   "source": [
    "x = np.random.random(5)\n",
    "x"
   ]
  },
  {
   "cell_type": "code",
   "execution_count": 17,
   "id": "3f083d26-1728-4a33-be34-4d97e08fd3d0",
   "metadata": {},
   "outputs": [
    {
     "data": {
      "text/plain": [
       "array([0, 1, 2, 3, 4])"
      ]
     },
     "execution_count": 17,
     "metadata": {},
     "output_type": "execute_result"
    }
   ],
   "source": [
    "x = np.arange(5)\n",
    "x"
   ]
  },
  {
   "cell_type": "code",
   "execution_count": 18,
   "id": "0d1db09e-6fbb-460b-9dd5-1c9c0ae2dd64",
   "metadata": {},
   "outputs": [
    {
     "data": {
      "text/plain": [
       "array([0, 2, 4, 6, 8])"
      ]
     },
     "execution_count": 18,
     "metadata": {},
     "output_type": "execute_result"
    }
   ],
   "source": [
    "2*x"
   ]
  },
  {
   "cell_type": "code",
   "execution_count": 19,
   "id": "da21c7dd-ccf9-48ce-9e93-ac57ee46a97c",
   "metadata": {},
   "outputs": [
    {
     "name": "stdout",
     "output_type": "stream",
     "text": [
      "[0.  0.5 1.  1.5 2. ] [ 0  1  4  9 16] [0 1 0 1 0]\n"
     ]
    }
   ],
   "source": [
    "print(x/2, x**2, x%2)"
   ]
  },
  {
   "cell_type": "code",
   "execution_count": 20,
   "id": "b7080f23-c9ae-4838-bff2-909add369eb4",
   "metadata": {},
   "outputs": [
    {
     "data": {
      "text/plain": [
       "array([4, 6])"
      ]
     },
     "execution_count": 20,
     "metadata": {},
     "output_type": "execute_result"
    }
   ],
   "source": [
    "a = np.array([1, 2])\n",
    "b = np.array([3, 4])\n",
    "a + b"
   ]
  },
  {
   "cell_type": "code",
   "execution_count": 21,
   "id": "1cf97773-f4b5-4824-8ee6-ed9a68d191e0",
   "metadata": {},
   "outputs": [
    {
     "data": {
      "text/plain": [
       "array([23, 34])"
      ]
     },
     "execution_count": 21,
     "metadata": {},
     "output_type": "execute_result"
    }
   ],
   "source": [
    "5 * a + 6 * b"
   ]
  },
  {
   "cell_type": "code",
   "execution_count": 22,
   "id": "c35a571a-0c7d-47c3-8ff1-4f1d5a93c8ed",
   "metadata": {},
   "outputs": [
    {
     "data": {
      "text/plain": [
       "array([3, 8])"
      ]
     },
     "execution_count": 22,
     "metadata": {},
     "output_type": "execute_result"
    }
   ],
   "source": [
    "a*b"
   ]
  },
  {
   "cell_type": "code",
   "execution_count": 23,
   "id": "2dfc3762-53b1-4572-bb37-e8d24000edf4",
   "metadata": {},
   "outputs": [
    {
     "data": {
      "text/plain": [
       "np.int64(11)"
      ]
     },
     "execution_count": 23,
     "metadata": {},
     "output_type": "execute_result"
    }
   ],
   "source": [
    "a@b"
   ]
  },
  {
   "cell_type": "code",
   "execution_count": 24,
   "id": "976a1ec7-9dbb-4fa1-b555-184edc0a40d5",
   "metadata": {},
   "outputs": [
    {
     "data": {
      "text/plain": [
       "array([0, 0, 1])"
      ]
     },
     "execution_count": 24,
     "metadata": {},
     "output_type": "execute_result"
    }
   ],
   "source": [
    "a = np.array([1, 0, 0])\n",
    "b = np.array([0, 1, 0])\n",
    "np.cross(a, b)"
   ]
  },
  {
   "cell_type": "code",
   "execution_count": 25,
   "id": "5e436878-b6bc-4b8a-99d4-49eeafa995b2",
   "metadata": {},
   "outputs": [
    {
     "data": {
      "text/plain": [
       "array([0, 1, 2, 3, 4])"
      ]
     },
     "execution_count": 25,
     "metadata": {},
     "output_type": "execute_result"
    }
   ],
   "source": [
    "x = np.arange(5)\n",
    "x"
   ]
  },
  {
   "cell_type": "code",
   "execution_count": 26,
   "id": "38313ab0-5152-4cd7-8b1f-d0690164725d",
   "metadata": {},
   "outputs": [
    {
     "name": "stdout",
     "output_type": "stream",
     "text": [
      "10\n",
      "4\n",
      "0\n",
      "[0 1 2 2 2]\n",
      "[ 0.          0.84147098  0.90929743  0.14112001 -0.7568025 ]\n",
      "[ 1.          0.54030231 -0.41614684 -0.9899925  -0.65364362]\n"
     ]
    }
   ],
   "source": [
    "print(np.sum(x))\n",
    "print(np.max(x))\n",
    "print(np.min(x))\n",
    "print(np.clip(x, 0, 2))\n",
    "print(np.sin(x))\n",
    "print(np.cos(x))"
   ]
  },
  {
   "cell_type": "code",
   "execution_count": 27,
   "id": "52a62541-e5c0-41fb-ae3d-f6963acdfcab",
   "metadata": {},
   "outputs": [
    {
     "data": {
      "text/plain": [
       "array([[0., 0.],\n",
       "       [0., 0.]])"
      ]
     },
     "execution_count": 27,
     "metadata": {},
     "output_type": "execute_result"
    }
   ],
   "source": [
    "np.zeros((2, 2))"
   ]
  },
  {
   "cell_type": "code",
   "execution_count": 28,
   "id": "3e839d33-2ed7-4c0b-a51d-ecb6d9294085",
   "metadata": {},
   "outputs": [
    {
     "data": {
      "text/plain": [
       "array([[0.81420894, 0.35163991],\n",
       "       [0.45113578, 0.26620635]])"
      ]
     },
     "execution_count": 28,
     "metadata": {},
     "output_type": "execute_result"
    }
   ],
   "source": [
    "np.random.random((2, 2))"
   ]
  },
  {
   "cell_type": "code",
   "execution_count": 29,
   "id": "17cf7daf-3299-4066-9480-5c22be826543",
   "metadata": {},
   "outputs": [
    {
     "data": {
      "text/plain": [
       "array([[1., 0.],\n",
       "       [0., 1.]])"
      ]
     },
     "execution_count": 29,
     "metadata": {},
     "output_type": "execute_result"
    }
   ],
   "source": [
    "np.eye(2)"
   ]
  },
  {
   "cell_type": "code",
   "execution_count": 30,
   "id": "d565a3dc-4bdc-4b03-a26d-200d0b3df2f1",
   "metadata": {},
   "outputs": [
    {
     "data": {
      "text/plain": [
       "array([[1, 3],\n",
       "       [2, 4]])"
      ]
     },
     "execution_count": 30,
     "metadata": {},
     "output_type": "execute_result"
    }
   ],
   "source": [
    "A = np.array([[1, 3],\n",
    "[2, 4]])\n",
    "A"
   ]
  },
  {
   "cell_type": "code",
   "execution_count": 31,
   "id": "7b622be8-b047-4510-9dea-52d08d7d709b",
   "metadata": {},
   "outputs": [
    {
     "data": {
      "text/plain": [
       "(2, 2)"
      ]
     },
     "execution_count": 31,
     "metadata": {},
     "output_type": "execute_result"
    }
   ],
   "source": [
    "A.shape"
   ]
  },
  {
   "cell_type": "code",
   "execution_count": 32,
   "id": "9294e83d-584f-431f-88f2-e8ea6f3830b0",
   "metadata": {},
   "outputs": [
    {
     "name": "stdout",
     "output_type": "stream",
     "text": [
      "3\n",
      "[1 2]\n",
      "[2 4]\n",
      "[[1 2]\n",
      " [3 4]]\n"
     ]
    }
   ],
   "source": [
    "print(A[0, 1]) # Element\n",
    "print(A[:, 0]) # Column\n",
    "print(A[-1, :]) # Row\n",
    "print(A.T) # Transpose"
   ]
  },
  {
   "cell_type": "code",
   "execution_count": 33,
   "id": "49262fbb-427e-4c14-aefa-15b041501b73",
   "metadata": {},
   "outputs": [
    {
     "name": "stdout",
     "output_type": "stream",
     "text": [
      "[[2 6]\n",
      " [4 8]] [[0.5 1.5]\n",
      " [1.  2. ]] [[ 1  9]\n",
      " [ 4 16]] [[1 1]\n",
      " [0 0]]\n"
     ]
    }
   ],
   "source": [
    "print(2*A, A/2, A**2, A%2)"
   ]
  },
  {
   "cell_type": "code",
   "execution_count": 34,
   "id": "46d70eae-6fd1-4433-8db6-1b90791c1017",
   "metadata": {},
   "outputs": [
    {
     "data": {
      "text/plain": [
       "array([[ 0.84147098,  0.14112001],\n",
       "       [ 0.90929743, -0.7568025 ]])"
      ]
     },
     "execution_count": 34,
     "metadata": {},
     "output_type": "execute_result"
    }
   ],
   "source": [
    "np.sin(A)"
   ]
  },
  {
   "cell_type": "code",
   "execution_count": 36,
   "id": "fa1a53c7-0c92-4e8c-b752-27a9efddb49e",
   "metadata": {},
   "outputs": [
    {
     "data": {
      "text/plain": [
       "array([[ 0.54030231, -0.9899925 ],\n",
       "       [-0.41614684, -0.65364362]])"
      ]
     },
     "execution_count": 36,
     "metadata": {},
     "output_type": "execute_result"
    }
   ],
   "source": [
    "np.cos(A)"
   ]
  },
  {
   "cell_type": "code",
   "execution_count": 37,
   "id": "d36ebd9c-0371-4cd0-ad07-849fc8fa6cf9",
   "metadata": {},
   "outputs": [],
   "source": [
    "x = np.array([5, 6])\n",
    "B = np.array([[5, 7],\n",
    "[6, 8]])"
   ]
  },
  {
   "cell_type": "code",
   "execution_count": 43,
   "id": "310383b9-645e-4474-9b11-f5e3ced01547",
   "metadata": {},
   "outputs": [
    {
     "name": "stdout",
     "output_type": "stream",
     "text": [
      "[[ 6 10]\n",
      " [ 8 12]]\n",
      "[[ 5 21]\n",
      " [12 32]]\n",
      "[[23 31]\n",
      " [34 46]]\n",
      "[23 34]\n"
     ]
    }
   ],
   "source": [
    "print(A+B, A*B, A@B, A@x, sep=\"\\n\")"
   ]
  },
  {
   "cell_type": "code",
   "execution_count": 42,
   "id": "e92bccad-1a10-4670-97b6-7fcc048c1892",
   "metadata": {},
   "outputs": [
    {
     "data": {
      "text/plain": [
       "array([23, 34])"
      ]
     },
     "execution_count": 42,
     "metadata": {},
     "output_type": "execute_result"
    }
   ],
   "source": [
    "A@x"
   ]
  },
  {
   "cell_type": "code",
   "execution_count": 44,
   "id": "463bf391-25e8-49c0-b7fa-ca8df8a1b0f2",
   "metadata": {},
   "outputs": [
    {
     "ename": "ValueError",
     "evalue": "operands could not be broadcast together with shapes (2,2) (3,2) ",
     "output_type": "error",
     "traceback": [
      "\u001b[0;31m---------------------------------------------------------------------------\u001b[0m",
      "\u001b[0;31mValueError\u001b[0m                                Traceback (most recent call last)",
      "Cell \u001b[0;32mIn[44], line 6\u001b[0m\n\u001b[1;32m      1\u001b[0m A \u001b[38;5;241m=\u001b[39m np\u001b[38;5;241m.\u001b[39marray([[\u001b[38;5;241m1\u001b[39m, \u001b[38;5;241m3\u001b[39m],\n\u001b[1;32m      2\u001b[0m [\u001b[38;5;241m2\u001b[39m, \u001b[38;5;241m4\u001b[39m]])\n\u001b[1;32m      3\u001b[0m B \u001b[38;5;241m=\u001b[39m np\u001b[38;5;241m.\u001b[39marray([[\u001b[38;5;241m1\u001b[39m, \u001b[38;5;241m4\u001b[39m],\n\u001b[1;32m      4\u001b[0m [\u001b[38;5;241m2\u001b[39m, \u001b[38;5;241m5\u001b[39m],\n\u001b[1;32m      5\u001b[0m [\u001b[38;5;241m3\u001b[39m, \u001b[38;5;241m6\u001b[39m]])\n\u001b[0;32m----> 6\u001b[0m \u001b[43mA\u001b[49m\u001b[43m \u001b[49m\u001b[38;5;241;43m+\u001b[39;49m\u001b[43m \u001b[49m\u001b[43mB\u001b[49m\n",
      "\u001b[0;31mValueError\u001b[0m: operands could not be broadcast together with shapes (2,2) (3,2) "
     ]
    }
   ],
   "source": [
    "A = np.array([[1, 3],\n",
    "[2, 4]])\n",
    "B = np.array([[1, 4],\n",
    "[2, 5],\n",
    "[3, 6]])\n",
    "A + B"
   ]
  },
  {
   "cell_type": "code",
   "execution_count": 45,
   "id": "102db20d-dccf-4b07-883d-0f5de87e3f1c",
   "metadata": {},
   "outputs": [
    {
     "ename": "ValueError",
     "evalue": "matmul: Input operand 1 has a mismatch in its core dimension 0, with gufunc signature (n?,k),(k,m?)->(n?,m?) (size 3 is different from 2)",
     "output_type": "error",
     "traceback": [
      "\u001b[0;31m---------------------------------------------------------------------------\u001b[0m",
      "\u001b[0;31mValueError\u001b[0m                                Traceback (most recent call last)",
      "Cell \u001b[0;32mIn[45], line 1\u001b[0m\n\u001b[0;32m----> 1\u001b[0m \u001b[43mA\u001b[49m\u001b[38;5;129;43m@B\u001b[39;49m \n",
      "\u001b[0;31mValueError\u001b[0m: matmul: Input operand 1 has a mismatch in its core dimension 0, with gufunc signature (n?,k),(k,m?)->(n?,m?) (size 3 is different from 2)"
     ]
    }
   ],
   "source": [
    "A@B "
   ]
  },
  {
   "cell_type": "code",
   "execution_count": 50,
   "id": "4bc37bb2-5611-4089-a712-6c33821f0324",
   "metadata": {},
   "outputs": [],
   "source": [
    "import numpy as np\n",
    "import calcplotlib as plt\n",
    "import turtle"
   ]
  },
  {
   "cell_type": "code",
   "execution_count": 51,
   "id": "12a2ad73-777c-4a21-b325-f1cd863b5764",
   "metadata": {},
   "outputs": [],
   "source": [
    "# Set up the plot.\n",
    "plt.clear()\n",
    "#plt.draw_grid()\n",
    "plt.draw_axes()\n",
    "# Draw the reference point.\n",
    "x = np.array([50, 100])\n",
    "turtle.penup()\n",
    "turtle.goto(x)\n",
    "turtle.pensize(7)\n",
    "turtle.color(\"gray80\")\n",
    "turtle.dot()\n",
    "# Draw the transformed point.\n",
    "S = np.array([[1, 0],\n",
    "[0, 0.5]])\n",
    "\n",
    "b = S @ x\n",
    "turtle.penup()\n",
    "turtle.goto(b)\n",
    "turtle.pensize(7)\n",
    "turtle.color(\"gray30\")\n",
    "turtle.dot()"
   ]
  },
  {
   "cell_type": "code",
   "execution_count": 53,
   "id": "b13397be-ff36-4b62-8104-65cc400188bd",
   "metadata": {},
   "outputs": [],
   "source": [
    "# Set up the plot.\n",
    "plt.clear()\n",
    "#plt.draw_grid()\n",
    "plt.draw_axes()\n",
    "# Draw the reference point.\n",
    "x = np.array([50, 100])\n",
    "turtle.penup()\n",
    "\n",
    "turtle.goto(x)\n",
    "turtle.color(\"gray80\")\n",
    "turtle.pensize(7)\n",
    "turtle.dot()\n",
    "# Draw the rotated point.\n",
    "angle = np.pi / 2\n",
    "c = np.cos(angle)\n",
    "s = np.sin(angle)\n",
    "R = np.array([[c, -s],\n",
    "[s, c]])\n",
    "b = R @ x\n",
    "turtle.penup()\n",
    "turtle.goto(b)\n",
    "turtle.color(\"gray30\")\n",
    "turtle.pensize(7)\n",
    "turtle.dot()"
   ]
  },
  {
   "cell_type": "code",
   "execution_count": 55,
   "id": "3119009c-9fd6-4658-8940-c5197fd51bd9",
   "metadata": {},
   "outputs": [],
   "source": [
    "# homogeneous coords\n",
    "\n",
    "# Set up the plot\n",
    "plt.clear()\n",
    "#plt.draw_grid()\n",
    "plt.draw_axes()\n",
    "# Draw the reference point\n",
    "x = np.array([50, 100, 1])\n",
    "turtle.penup()\n",
    "turtle.goto(x[:2])\n",
    "turtle.color(\"gray80\")\n",
    "turtle.pensize(7)\n",
    "turtle.dot()\n",
    "# Draw the scaled point\n",
    "S = np.array([[1, 0, 0],\n",
    "[0, 0.5, 0],\n",
    "[0, 0, 1]])\n",
    "b = S @ x\n",
    "turtle.penup()\n",
    "turtle.goto(b[:2])\n",
    "turtle.color(\"gray30\")\n",
    "turtle.pensize(7)\n",
    "turtle.dot()\n",
    "# Draw the rotated point\n",
    "angle = np.pi / 2\n",
    "c = np.cos(angle)\n",
    "s = np.sin(angle)\n",
    "R = np.array([[c, -s, 0],\n",
    "[s, c, 0],\n",
    "[0, 0, 1]])\n",
    "b = R @ x\n",
    "turtle.penup()\n",
    "\n",
    "turtle.goto(b[:2])\n",
    "turtle.color(\"gray50\")\n",
    "turtle.pensize(7)\n",
    "turtle.dot()"
   ]
  },
  {
   "cell_type": "code",
   "execution_count": 57,
   "id": "6215fb0c-7e77-463a-a029-9a2e726bd47f",
   "metadata": {},
   "outputs": [],
   "source": [
    "# translation\n",
    "\n",
    "# Set up the plot.\n",
    "plt.clear()\n",
    "#plt.draw_grid()\n",
    "plt.draw_axes()\n",
    "# Draw the reference point.\n",
    "x = np.array([50, 100, 1])\n",
    "turtle.penup()\n",
    "turtle.goto(x[:2])\n",
    "turtle.color(\"gray80\")\n",
    "\n",
    "turtle.pensize(7)\n",
    "turtle.dot()\n",
    "# Draw the translated point.\n",
    "T = np.array([[1, 0, -200],\n",
    "[0, 1, 75],\n",
    "[0, 0, 1]])\n",
    "b = T @ x\n",
    "turtle.penup()\n",
    "turtle.goto(b[:2])\n",
    "turtle.color(\"gray30\")\n",
    "turtle.pensize(7)\n",
    "turtle.dot()"
   ]
  },
  {
   "cell_type": "code",
   "execution_count": 59,
   "id": "38305404-5868-456f-9187-97c610596efe",
   "metadata": {},
   "outputs": [],
   "source": [
    "# composition\n",
    "\n",
    "# Set up the plot\n",
    "plt.clear()\n",
    "#plt.draw_grid()\n",
    "plt.draw_axes()\n",
    "# Draw the reference point.\n",
    "\n",
    "x = np.array([50, 100, 1])\n",
    "turtle.penup()\n",
    "turtle.goto(x[:2])\n",
    "turtle.color(\"gray80\")\n",
    "turtle.pensize(7)\n",
    "turtle.dot()\n",
    "# Translation matrix\n",
    "T = np.array([[1, 0, -200],\n",
    "[0, 1, 75],\n",
    "[0, 0, 1]])\n",
    "# Scale matrix\n",
    "S = np.array([[1, 0, 0],\n",
    "[0, 0.5, 0],\n",
    "[0, 0, 1]])\n",
    "# Rotation matrix\n",
    "angle = np.pi / 2\n",
    "c = np.cos(angle)\n",
    "s = np.sin(angle)\n",
    "R = np.array([[c, -s, 0],\n",
    "[s, c, 0],\n",
    "[0, 0, 1]])\n",
    "\n",
    "# Translate, rotate, scale\n",
    "b = S @ R @ T @ x\n",
    "turtle.penup()\n",
    "turtle.goto(b[:2])\n",
    "turtle.color(\"gray30\")\n",
    "turtle.pensize(7)\n",
    "turtle.dot()\n",
    "# Rotate, translate, scale\n",
    "b = S @ T @ R @ x\n",
    "turtle.penup()\n",
    "turtle.goto(b[:2])\n",
    "turtle.color(\"gray50\")\n",
    "turtle.pensize(7)\n",
    "turtle.dot()"
   ]
  },
  {
   "cell_type": "code",
   "execution_count": 61,
   "id": "eb2e8708-d5b1-4a1a-be81-8461009b3556",
   "metadata": {},
   "outputs": [],
   "source": [
    "# meshes\n",
    "\n",
    "# Set up the plot.\n",
    "plt.clear()\n",
    "#plt.draw_grid()\n",
    "plt.draw_axes()\n",
    "# Set the vertices.\n",
    "V = np.array([[1, -1, -1, 1],\n",
    "[1, 1, -1, -1],\n",
    "[1, 1, 1, 1]])\n",
    "# Scale matrix\n",
    "S = np.array([[100, 0, 0],\n",
    "[ 0, 100, 0,],[ 0, 0, 1]])\n",
    "\n",
    "# Transform the vertices.\n",
    "V = S @ V\n",
    "# Draw the vertices.\n",
    "turtle.penup()\n",
    "turtle.color(\"gray30\")\n",
    "turtle.pensize(7)\n",
    "rows, cols = V.shape\n",
    "for j in range(cols):\n",
    "    turtle.goto(V[0:2, j])\n",
    "    turtle.dot()\n",
    "\n",
    "              "
   ]
  },
  {
   "cell_type": "code",
   "execution_count": 62,
   "id": "306c3fe7-4b72-4984-9544-67fa3ec7a74b",
   "metadata": {},
   "outputs": [],
   "source": [
    "# Set the edges\n",
    "A = np.array([[0, 1, 0, 1],\n",
    "[1, 0, 1, 0],\n",
    "[0, 1, 0, 1],\n",
    "[1, 0, 1, 0]])\n",
    "# Draw the edges\n",
    "turtle.penup()\n",
    "turtle.color(\"gray30\")\n",
    "turtle.pensize(2)\n",
    "for j in range(cols):\n",
    "    for i in range(j, cols):\n",
    "        if A[i, j] == 1:\n",
    "            turtle.goto(V[0:2, j])\n",
    "            turtle.pendown()\n",
    "            turtle.goto(V[0:2, i])\n",
    "            turtle.penup()\n",
    "        \n"
   ]
  },
  {
   "cell_type": "code",
   "execution_count": null,
   "id": "15c4deef-3324-4ed0-8d93-d03163b39345",
   "metadata": {},
   "outputs": [],
   "source": []
  }
 ],
 "metadata": {
  "kernelspec": {
   "display_name": "Python 3 (ipykernel)",
   "language": "python",
   "name": "python3"
  },
  "language_info": {
   "codemirror_mode": {
    "name": "ipython",
    "version": 3
   },
   "file_extension": ".py",
   "mimetype": "text/x-python",
   "name": "python",
   "nbconvert_exporter": "python",
   "pygments_lexer": "ipython3",
   "version": "3.10.12"
  }
 },
 "nbformat": 4,
 "nbformat_minor": 5
}
